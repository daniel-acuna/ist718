{
 "cells": [
  {
   "cell_type": "markdown",
   "metadata": {},
   "source": [
    "# Unsupervised learning"
   ]
  },
  {
   "cell_type": "code",
   "execution_count": 1,
   "metadata": {},
   "outputs": [],
   "source": [
    "from pyspark.ml import feature\n",
    "from pyspark.ml import clustering\n",
    "from pyspark.ml import Pipeline\n",
    "from pyspark.sql import functions as fn\n",
    "import numpy as np\n",
    "from pyspark.sql import SparkSession\n",
    "from pyspark.ml import feature, regression, evaluation, Pipeline\n",
    "from pyspark.sql import functions as fn, Row\n",
    "import matplotlib.pyplot as plt\n",
    "spark = SparkSession.builder.getOrCreate()\n",
    "sc = spark.sparkContext"
   ]
  },
  {
   "cell_type": "code",
   "execution_count": 2,
   "metadata": {},
   "outputs": [],
   "source": [
    "import pandas as pd"
   ]
  },
  {
   "cell_type": "markdown",
   "metadata": {},
   "source": [
    "# PCA example with diabetes dataset"
   ]
  },
  {
   "cell_type": "code",
   "execution_count": 3,
   "metadata": {},
   "outputs": [],
   "source": [
    "# we will use pandas to display the data nicely\n",
    "datasource = pd.read_csv('http://www4.stat.ncsu.edu/~boos/var.select/diabetes.tab.txt', delimiter='\\t')\n",
    "datasource.columns = ['age', 'sex', 'bmi', 'map', 'tc', 'ldl', 'hdl', 'tch', 'ltg', 'glu', 'disease_progression']\n",
    "diabetes_df = spark.createDataFrame(datasource)"
   ]
  },
  {
   "cell_type": "code",
   "execution_count": 4,
   "metadata": {},
   "outputs": [
    {
     "data": {
      "text/plain": [
       "DataFrame[age: bigint, sex: bigint, bmi: double, map: double, tc: bigint, ldl: double, hdl: double, tch: double, ltg: double, glu: bigint, disease_progression: bigint]"
      ]
     },
     "execution_count": 4,
     "metadata": {},
     "output_type": "execute_result"
    }
   ],
   "source": [
    "diabetes_df"
   ]
  },
  {
   "cell_type": "markdown",
   "metadata": {},
   "source": [
    "## Build a pipeline"
   ]
  },
  {
   "cell_type": "code",
   "execution_count": 5,
   "metadata": {},
   "outputs": [],
   "source": [
    "pipeline_diabetes = Pipeline(stages=[\n",
    "    feature.VectorAssembler(inputCols=['age', 'sex', 'bmi', 'map', 'tc', 'ldl', 'hdl', 'tch', 'ltg', 'glu'],\n",
    "                           outputCol='features'),\n",
    "    feature.StandardScaler(withMean=True,\n",
    "                           inputCol='features', outputCol='zfeatures'\n",
    "                          ),\n",
    "    feature.PCA(k=2, inputCol='zfeatures', outputCol='loadings')\n",
    "]).fit(diabetes_df)"
   ]
  },
  {
   "cell_type": "code",
   "execution_count": 6,
   "metadata": {},
   "outputs": [],
   "source": [
    "principal_components = pipeline_diabetes.stages[-1].pc.toArray()"
   ]
  },
  {
   "cell_type": "code",
   "execution_count": 7,
   "metadata": {},
   "outputs": [
    {
     "data": {
      "text/plain": [
       "array([[-0.2164309 ,  0.04436721],\n",
       "       [-0.18696688, -0.3865472 ],\n",
       "       [-0.30316216, -0.15628128],\n",
       "       [-0.27173773, -0.138266  ],\n",
       "       [-0.34325511,  0.57302691],\n",
       "       [-0.35186068,  0.45594185],\n",
       "       [ 0.28243681,  0.50623907],\n",
       "       [-0.4288337 , -0.06818072],\n",
       "       [-0.37861802, -0.026187  ],\n",
       "       [-0.32218296, -0.08494884]])"
      ]
     },
     "execution_count": 7,
     "metadata": {},
     "output_type": "execute_result"
    }
   ],
   "source": [
    "principal_components"
   ]
  },
  {
   "cell_type": "code",
   "execution_count": 8,
   "metadata": {},
   "outputs": [
    {
     "data": {
      "text/plain": [
       "Row(zfeatures=DenseVector([0.7996, 1.0643, 1.2956, 0.4593, -0.9287, -0.7312, -0.9114, -0.0544, 0.4181, -0.3706]), loadings=DenseVector([-0.5865, -1.9446]))"
      ]
     },
     "execution_count": 8,
     "metadata": {},
     "output_type": "execute_result"
    }
   ],
   "source": [
    "pipeline_diabetes.transform(diabetes_df).select('zfeatures', 'loadings').first()"
   ]
  },
  {
   "cell_type": "code",
   "execution_count": 9,
   "metadata": {},
   "outputs": [],
   "source": [
    "z = pipeline_diabetes.transform(diabetes_df).select('zfeatures', 'loadings').first()['zfeatures']"
   ]
  },
  {
   "cell_type": "code",
   "execution_count": 10,
   "metadata": {},
   "outputs": [
    {
     "data": {
      "text/plain": [
       "array([-0.5865345 , -1.94462866])"
      ]
     },
     "execution_count": 10,
     "metadata": {},
     "output_type": "execute_result"
    }
   ],
   "source": [
    "z.dot(principal_components)"
   ]
  },
  {
   "cell_type": "markdown",
   "metadata": {},
   "source": [
    "## Examine the principal components"
   ]
  },
  {
   "cell_type": "code",
   "execution_count": 11,
   "metadata": {},
   "outputs": [
    {
     "data": {
      "text/plain": [
       "[('age', -0.21643089648897473, 0.044367212393233844),\n",
       " ('sex', -0.18696687908602555, -0.3865472038551628),\n",
       " ('bmi', -0.30316216313887745, -0.15628128429437474),\n",
       " ('map', -0.2717377304844055, -0.13826600177995474),\n",
       " ('tc', -0.3432551083789176, 0.5730269088415814),\n",
       " ('ldl', -0.3518606824177598, 0.4559418547240137),\n",
       " ('hdl', 0.28243681319974884, 0.5062390689011844),\n",
       " ('tch', -0.4288336980133311, -0.06818071604588977),\n",
       " ('ltg', -0.3786180159906992, -0.026186995954152602),\n",
       " ('glu', -0.3221829550849705, -0.08494884202867298)]"
      ]
     },
     "execution_count": 11,
     "metadata": {},
     "output_type": "execute_result"
    }
   ],
   "source": [
    "list(zip(['age', 'sex', 'bmi', 'map', 'tc', 'ldl', 'hdl', 'tch', 'ltg', 'glu'], \n",
    "         principal_components[:, 0], principal_components[:, 1]))"
   ]
  },
  {
   "cell_type": "markdown",
   "metadata": {},
   "source": [
    "# Analysis of IM courses"
   ]
  },
  {
   "cell_type": "code",
   "execution_count": 12,
   "metadata": {},
   "outputs": [],
   "source": [
    "im_courses = spark.createDataFrame(pd.read_csv('https://github.com/daniel-acuna/data_science_programs/raw/master/data/im_masters_ischool.csv'))"
   ]
  },
  {
   "cell_type": "code",
   "execution_count": 13,
   "metadata": {},
   "outputs": [
    {
     "name": "stdout",
     "output_type": "stream",
     "text": [
      "+-------+----+-------+--------------------+--------------------+\n",
      "| course|core|credits|               title|         description|\n",
      "+-------+----+-------+--------------------+--------------------+\n",
      "|IST 553|  IM|      3|Information Archi...|Building and mana...|\n",
      "|IST 558| CAS|      3|Technologies in W...|Concepts and tech...|\n",
      "|IST 565| CAS|      3|         Data Mining|Introduction to d...|\n",
      "|IST 601|  IM|      3|Information and I...|A broad overview ...|\n",
      "|IST 614|  IM|      3|Management Princi...|Basic ideas, conc...|\n",
      "|IST 617|  IM|      3|Motivational Aspe...|Theories of motiv...|\n",
      "|IST 618|  IM|      3|  Information Policy|Public policy iss...|\n",
      "|IST 619|  IM|      3|Applied Economics...|Economic principl...|\n",
      "|IST 621|  IM|      3|Introduction to I...|Overview of gener...|\n",
      "|IST 631|  IM|      3|Theory of Classif...|Classification is...|\n",
      "|IST 639|  IM|      3|Enterprise Techno...|Coverage of manag...|\n",
      "|IST 641|  IM|      3|   User-Based Design|System design bas...|\n",
      "|IST 645|  IM|      3|Managing Informat...|Project managemen...|\n",
      "|IST 649|  IM|      3|Human Interaction...|Human performance...|\n",
      "|IST 653|  IM|      3|Telecommunication...|A survey of telec...|\n",
      "|IST 654|  IM|      3|Information Syste...|Concepts and meth...|\n",
      "|IST 656|  IM|      3|Telecommunication...|Hardware and soft...|\n",
      "|IST 657| CAS|      3|Basics of Informa...|Design, developme...|\n",
      "|IST 659|  IM|      3|Data Administrati...|Definition, devel...|\n",
      "|IST 662|  IM|      3|Instructional Str...|Introduction to i...|\n",
      "+-------+----+-------+--------------------+--------------------+\n",
      "only showing top 20 rows\n",
      "\n"
     ]
    }
   ],
   "source": [
    "im_courses.show()"
   ]
  },
  {
   "cell_type": "markdown",
   "metadata": {},
   "source": [
    "## Let's transform course descriptions into vectors"
   ]
  },
  {
   "cell_type": "code",
   "execution_count": 14,
   "metadata": {},
   "outputs": [],
   "source": [
    "tokenizer = feature.RegexTokenizer(minTokenLength=2)\\\n",
    "  .setGaps(False)\\\n",
    "  .setPattern(\"\\\\p{L}+\")\\\n",
    "  .setInputCol(\"description\")\\\n",
    "  .setOutputCol(\"words\")\n",
    "\n",
    "import requests\n",
    "stop_words = requests.get('http://ir.dcs.gla.ac.uk/resources/linguistic_utils/stop_words').text.split()\n",
    "\n",
    "sw_filter = feature.StopWordsRemover()\\\n",
    "  .setStopWords(stop_words)\\\n",
    "  .setCaseSensitive(False)\\\n",
    "  .setInputCol(\"words\")\\\n",
    "  .setOutputCol(\"filtered\")\n",
    "\n",
    "cv = feature.CountVectorizer(inputCol='filtered', outputCol='tf')\n",
    "idf = feature.IDF(inputCol='tf', outputCol='tfidf')"
   ]
  },
  {
   "cell_type": "markdown",
   "metadata": {},
   "source": [
    "The rest of the functions does not work with Sparse vectors. We need to create a UDF that performs a sparse to dense transformation"
   ]
  },
  {
   "cell_type": "markdown",
   "metadata": {},
   "source": [
    "Let's create a pipeline that transforms descriptions into TFIDF:"
   ]
  },
  {
   "cell_type": "code",
   "execution_count": 15,
   "metadata": {},
   "outputs": [],
   "source": [
    "tfidf = Pipeline(stages=[tokenizer, sw_filter, cv, idf]).fit(im_courses)"
   ]
  },
  {
   "cell_type": "code",
   "execution_count": 16,
   "metadata": {},
   "outputs": [
    {
     "name": "stdout",
     "output_type": "stream",
     "text": [
      "+-------+----+-------+--------------------+--------------------+--------------------+--------------------+--------------------+--------------------+\n",
      "| course|core|credits|               title|         description|               words|            filtered|                  tf|               tfidf|\n",
      "+-------+----+-------+--------------------+--------------------+--------------------+--------------------+--------------------+--------------------+\n",
      "|IST 553|  IM|      3|Information Archi...|Building and mana...|[building, and, m...|[building, manage...|(357,[0,1,9,12,14...|(357,[0,1,9,12,14...|\n",
      "|IST 558| CAS|      3|Technologies in W...|Concepts and tech...|[concepts, and, t...|[concepts, techni...|(357,[1,2,3,4,16,...|(357,[1,2,3,4,16,...|\n",
      "|IST 565| CAS|      3|         Data Mining|Introduction to d...|[introduction, to...|[introduction, da...|(357,[2,3,8,22,24...|(357,[2,3,8,22,24...|\n",
      "|IST 601|  IM|      3|Information and I...|A broad overview ...|[broad, overview,...|[broad, overview,...|(357,[0,25,40,41,...|(357,[0,25,40,41,...|\n",
      "|IST 614|  IM|      3|Management Princi...|Basic ideas, conc...|[basic, ideas, co...|[basic, ideas, co...|(357,[0,1,3,4,7,1...|(357,[0,1,3,4,7,1...|\n",
      "|IST 617|  IM|      3|Motivational Aspe...|Theories of motiv...|[theories, of, mo...|[theories, motiva...|(357,[0,1,6,12,19...|(357,[0,1,6,12,19...|\n",
      "|IST 618|  IM|      3|  Information Policy|Public policy iss...|[public, policy, ...|[public, policy, ...|(357,[0,4,10,11,2...|(357,[0,4,10,11,2...|\n",
      "|IST 619|  IM|      3|Applied Economics...|Economic principl...|[economic, princi...|[economic, princi...|(357,[0,1,4,5,14,...|(357,[0,1,4,5,14,...|\n",
      "|IST 621|  IM|      3|Introduction to I...|Overview of gener...|[overview, of, ge...|[overview, genera...|(357,[0,1,4,38,41...|(357,[0,1,4,38,41...|\n",
      "|IST 631|  IM|      3|Theory of Classif...|Classification is...|[classification, ...|[classification, ...|(357,[0,26,34,84,...|(357,[0,26,34,84,...|\n",
      "|IST 639|  IM|      3|Enterprise Techno...|Coverage of manag...|[coverage, of, ma...|[coverage, manage...|(357,[1,5,10,24,3...|(357,[1,5,10,24,3...|\n",
      "|IST 641|  IM|      3|   User-Based Design|System design bas...|[system, design, ...|[design, based, u...|(357,[0,6,7,12,16...|(357,[0,6,7,12,16...|\n",
      "|IST 645|  IM|      3|Managing Informat...|Project managemen...|[project, managem...|[project, managem...|(357,[0,1,7,8,13,...|(357,[0,1,7,8,13,...|\n",
      "|IST 649|  IM|      3|Human Interaction...|Human performance...|[human, performan...|[human, performan...|(357,[0,6,13,14,1...|(357,[0,6,13,14,1...|\n",
      "|IST 653|  IM|      3|Telecommunication...|A survey of telec...|[survey, of, tele...|[survey, telecomm...|(357,[1,5,10,27,4...|(357,[1,5,10,27,4...|\n",
      "|IST 654|  IM|      3|Information Syste...|Concepts and meth...|[concepts, and, m...|[concepts, method...|(357,[1,3,4,5,8,9...|(357,[1,3,4,5,8,9...|\n",
      "|IST 656|  IM|      3|Telecommunication...|Hardware and soft...|[hardware, and, s...|[hardware, softwa...|(357,[0,1,6,9,47,...|(357,[0,1,6,9,47,...|\n",
      "|IST 657| CAS|      3|Basics of Informa...|Design, developme...|[design, developm...|[design, developm...|(357,[0,5,6,22,24...|(357,[0,5,6,22,24...|\n",
      "|IST 659|  IM|      3|Data Administrati...|Definition, devel...|[definition, deve...|[definition, deve...|(357,[0,1,2,3,4,5...|(357,[0,1,2,3,4,5...|\n",
      "|IST 662|  IM|      3|Instructional Str...|Introduction to i...|[introduction, to...|[introduction, in...|(357,[0,3,8,28,38...|(357,[0,3,8,28,38...|\n",
      "+-------+----+-------+--------------------+--------------------+--------------------+--------------------+--------------------+--------------------+\n",
      "only showing top 20 rows\n",
      "\n"
     ]
    }
   ],
   "source": [
    "tfidf.transform(im_courses).show()"
   ]
  },
  {
   "cell_type": "markdown",
   "metadata": {},
   "source": [
    "We need to define a *Python* function that takes as input a column from `tfidf` and then returns the dense version of it.\n",
    "If we get the first row of the transformation, we can examine the type of `tfidf`"
   ]
  },
  {
   "cell_type": "code",
   "execution_count": 17,
   "metadata": {},
   "outputs": [],
   "source": [
    "tfidf_sample = tfidf.transform(im_courses).first().tfidf"
   ]
  },
  {
   "cell_type": "code",
   "execution_count": 18,
   "metadata": {},
   "outputs": [
    {
     "data": {
      "text/plain": [
       "SparseVector(357, {0: 1.8572, 1: 1.4443, 9: 3.2189, 12: 1.6094, 14: 1.7636, 16: 1.7636, 32: 2.1691, 50: 2.1691, 60: 2.1691, 66: 2.4567, 72: 2.4567, 87: 5.7244, 173: 2.8622, 333: 2.8622, 352: 2.8622})"
      ]
     },
     "execution_count": 18,
     "metadata": {},
     "output_type": "execute_result"
    }
   ],
   "source": [
    "tfidf_sample"
   ]
  },
  {
   "cell_type": "code",
   "execution_count": 19,
   "metadata": {},
   "outputs": [
    {
     "data": {
      "text/plain": [
       "pyspark.ml.linalg.SparseVector"
      ]
     },
     "execution_count": 19,
     "metadata": {},
     "output_type": "execute_result"
    }
   ],
   "source": [
    "type(tfidf_sample)"
   ]
  },
  {
   "cell_type": "markdown",
   "metadata": {},
   "source": [
    "We need to define a function that returns a dense version. For that, we will make use of the Vectors class"
   ]
  },
  {
   "cell_type": "code",
   "execution_count": 20,
   "metadata": {},
   "outputs": [],
   "source": [
    "from pyspark.ml.linalg import Vectors"
   ]
  },
  {
   "cell_type": "code",
   "execution_count": 21,
   "metadata": {},
   "outputs": [
    {
     "data": {
      "text/plain": [
       "DenseVector([1.8572, 1.4443, 0.0, 0.0, 0.0, 0.0, 0.0, 0.0, 0.0, 3.2189, 0.0, 0.0, 1.6094, 0.0, 1.7636, 0.0, 1.7636, 0.0, 0.0, 0.0, 0.0, 0.0, 0.0, 0.0, 0.0, 0.0, 0.0, 0.0, 0.0, 0.0, 0.0, 0.0, 2.1691, 0.0, 0.0, 0.0, 0.0, 0.0, 0.0, 0.0, 0.0, 0.0, 0.0, 0.0, 0.0, 0.0, 0.0, 0.0, 0.0, 0.0, 2.1691, 0.0, 0.0, 0.0, 0.0, 0.0, 0.0, 0.0, 0.0, 0.0, 2.1691, 0.0, 0.0, 0.0, 0.0, 0.0, 2.4567, 0.0, 0.0, 0.0, 0.0, 0.0, 2.4567, 0.0, 0.0, 0.0, 0.0, 0.0, 0.0, 0.0, 0.0, 0.0, 0.0, 0.0, 0.0, 0.0, 0.0, 5.7244, 0.0, 0.0, 0.0, 0.0, 0.0, 0.0, 0.0, 0.0, 0.0, 0.0, 0.0, 0.0, 0.0, 0.0, 0.0, 0.0, 0.0, 0.0, 0.0, 0.0, 0.0, 0.0, 0.0, 0.0, 0.0, 0.0, 0.0, 0.0, 0.0, 0.0, 0.0, 0.0, 0.0, 0.0, 0.0, 0.0, 0.0, 0.0, 0.0, 0.0, 0.0, 0.0, 0.0, 0.0, 0.0, 0.0, 0.0, 0.0, 0.0, 0.0, 0.0, 0.0, 0.0, 0.0, 0.0, 0.0, 0.0, 0.0, 0.0, 0.0, 0.0, 0.0, 0.0, 0.0, 0.0, 0.0, 0.0, 0.0, 0.0, 0.0, 0.0, 0.0, 0.0, 0.0, 0.0, 0.0, 0.0, 0.0, 0.0, 0.0, 0.0, 0.0, 0.0, 0.0, 0.0, 2.8622, 0.0, 0.0, 0.0, 0.0, 0.0, 0.0, 0.0, 0.0, 0.0, 0.0, 0.0, 0.0, 0.0, 0.0, 0.0, 0.0, 0.0, 0.0, 0.0, 0.0, 0.0, 0.0, 0.0, 0.0, 0.0, 0.0, 0.0, 0.0, 0.0, 0.0, 0.0, 0.0, 0.0, 0.0, 0.0, 0.0, 0.0, 0.0, 0.0, 0.0, 0.0, 0.0, 0.0, 0.0, 0.0, 0.0, 0.0, 0.0, 0.0, 0.0, 0.0, 0.0, 0.0, 0.0, 0.0, 0.0, 0.0, 0.0, 0.0, 0.0, 0.0, 0.0, 0.0, 0.0, 0.0, 0.0, 0.0, 0.0, 0.0, 0.0, 0.0, 0.0, 0.0, 0.0, 0.0, 0.0, 0.0, 0.0, 0.0, 0.0, 0.0, 0.0, 0.0, 0.0, 0.0, 0.0, 0.0, 0.0, 0.0, 0.0, 0.0, 0.0, 0.0, 0.0, 0.0, 0.0, 0.0, 0.0, 0.0, 0.0, 0.0, 0.0, 0.0, 0.0, 0.0, 0.0, 0.0, 0.0, 0.0, 0.0, 0.0, 0.0, 0.0, 0.0, 0.0, 0.0, 0.0, 0.0, 0.0, 0.0, 0.0, 0.0, 0.0, 0.0, 0.0, 0.0, 0.0, 0.0, 0.0, 0.0, 0.0, 0.0, 0.0, 0.0, 0.0, 0.0, 0.0, 0.0, 0.0, 0.0, 0.0, 0.0, 0.0, 0.0, 0.0, 0.0, 0.0, 0.0, 0.0, 0.0, 0.0, 0.0, 0.0, 0.0, 0.0, 0.0, 0.0, 0.0, 0.0, 2.8622, 0.0, 0.0, 0.0, 0.0, 0.0, 0.0, 0.0, 0.0, 0.0, 0.0, 0.0, 0.0, 0.0, 0.0, 0.0, 0.0, 0.0, 0.0, 2.8622, 0.0, 0.0, 0.0, 0.0])"
      ]
     },
     "execution_count": 21,
     "metadata": {},
     "output_type": "execute_result"
    }
   ],
   "source": [
    "Vectors.dense(tfidf_sample)"
   ]
  },
  {
   "cell_type": "code",
   "execution_count": 22,
   "metadata": {},
   "outputs": [
    {
     "data": {
      "text/plain": [
       "pyspark.ml.linalg.DenseVector"
      ]
     },
     "execution_count": 22,
     "metadata": {},
     "output_type": "execute_result"
    }
   ],
   "source": [
    "type(Vectors.dense(tfidf_sample))"
   ]
  },
  {
   "cell_type": "markdown",
   "metadata": {},
   "source": [
    "We need to work with `pyspark.ml.linalg.DenseVector` because that's what Spark ML expects (as opposed to a Numpy array)"
   ]
  },
  {
   "cell_type": "markdown",
   "metadata": {},
   "source": [
    "So, let's define the function:"
   ]
  },
  {
   "cell_type": "code",
   "execution_count": 23,
   "metadata": {},
   "outputs": [],
   "source": [
    "def to_dense(sparse_vector):\n",
    "    return Vectors.dense(sparse_vector)"
   ]
  },
  {
   "cell_type": "code",
   "execution_count": 24,
   "metadata": {},
   "outputs": [
    {
     "data": {
      "text/plain": [
       "DenseVector([1.8572, 1.4443, 0.0, 0.0, 0.0, 0.0, 0.0, 0.0, 0.0, 3.2189, 0.0, 0.0, 1.6094, 0.0, 1.7636, 0.0, 1.7636, 0.0, 0.0, 0.0, 0.0, 0.0, 0.0, 0.0, 0.0, 0.0, 0.0, 0.0, 0.0, 0.0, 0.0, 0.0, 2.1691, 0.0, 0.0, 0.0, 0.0, 0.0, 0.0, 0.0, 0.0, 0.0, 0.0, 0.0, 0.0, 0.0, 0.0, 0.0, 0.0, 0.0, 2.1691, 0.0, 0.0, 0.0, 0.0, 0.0, 0.0, 0.0, 0.0, 0.0, 2.1691, 0.0, 0.0, 0.0, 0.0, 0.0, 2.4567, 0.0, 0.0, 0.0, 0.0, 0.0, 2.4567, 0.0, 0.0, 0.0, 0.0, 0.0, 0.0, 0.0, 0.0, 0.0, 0.0, 0.0, 0.0, 0.0, 0.0, 5.7244, 0.0, 0.0, 0.0, 0.0, 0.0, 0.0, 0.0, 0.0, 0.0, 0.0, 0.0, 0.0, 0.0, 0.0, 0.0, 0.0, 0.0, 0.0, 0.0, 0.0, 0.0, 0.0, 0.0, 0.0, 0.0, 0.0, 0.0, 0.0, 0.0, 0.0, 0.0, 0.0, 0.0, 0.0, 0.0, 0.0, 0.0, 0.0, 0.0, 0.0, 0.0, 0.0, 0.0, 0.0, 0.0, 0.0, 0.0, 0.0, 0.0, 0.0, 0.0, 0.0, 0.0, 0.0, 0.0, 0.0, 0.0, 0.0, 0.0, 0.0, 0.0, 0.0, 0.0, 0.0, 0.0, 0.0, 0.0, 0.0, 0.0, 0.0, 0.0, 0.0, 0.0, 0.0, 0.0, 0.0, 0.0, 0.0, 0.0, 0.0, 0.0, 0.0, 0.0, 0.0, 0.0, 2.8622, 0.0, 0.0, 0.0, 0.0, 0.0, 0.0, 0.0, 0.0, 0.0, 0.0, 0.0, 0.0, 0.0, 0.0, 0.0, 0.0, 0.0, 0.0, 0.0, 0.0, 0.0, 0.0, 0.0, 0.0, 0.0, 0.0, 0.0, 0.0, 0.0, 0.0, 0.0, 0.0, 0.0, 0.0, 0.0, 0.0, 0.0, 0.0, 0.0, 0.0, 0.0, 0.0, 0.0, 0.0, 0.0, 0.0, 0.0, 0.0, 0.0, 0.0, 0.0, 0.0, 0.0, 0.0, 0.0, 0.0, 0.0, 0.0, 0.0, 0.0, 0.0, 0.0, 0.0, 0.0, 0.0, 0.0, 0.0, 0.0, 0.0, 0.0, 0.0, 0.0, 0.0, 0.0, 0.0, 0.0, 0.0, 0.0, 0.0, 0.0, 0.0, 0.0, 0.0, 0.0, 0.0, 0.0, 0.0, 0.0, 0.0, 0.0, 0.0, 0.0, 0.0, 0.0, 0.0, 0.0, 0.0, 0.0, 0.0, 0.0, 0.0, 0.0, 0.0, 0.0, 0.0, 0.0, 0.0, 0.0, 0.0, 0.0, 0.0, 0.0, 0.0, 0.0, 0.0, 0.0, 0.0, 0.0, 0.0, 0.0, 0.0, 0.0, 0.0, 0.0, 0.0, 0.0, 0.0, 0.0, 0.0, 0.0, 0.0, 0.0, 0.0, 0.0, 0.0, 0.0, 0.0, 0.0, 0.0, 0.0, 0.0, 0.0, 0.0, 0.0, 0.0, 0.0, 0.0, 0.0, 0.0, 0.0, 0.0, 0.0, 0.0, 0.0, 0.0, 0.0, 0.0, 0.0, 0.0, 2.8622, 0.0, 0.0, 0.0, 0.0, 0.0, 0.0, 0.0, 0.0, 0.0, 0.0, 0.0, 0.0, 0.0, 0.0, 0.0, 0.0, 0.0, 0.0, 2.8622, 0.0, 0.0, 0.0, 0.0])"
      ]
     },
     "execution_count": 24,
     "metadata": {},
     "output_type": "execute_result"
    }
   ],
   "source": [
    "to_dense(tfidf_sample)"
   ]
  },
  {
   "cell_type": "markdown",
   "metadata": {},
   "source": [
    "Now, to define a custom function for Spark SQL, we need to provide the **return** type of the function to the constructor in `functions.udf`. The return type of `to_dense` is `VectorUDT` defined in `pyspark.ml.linalg.VectorUDT`"
   ]
  },
  {
   "cell_type": "code",
   "execution_count": 25,
   "metadata": {},
   "outputs": [],
   "source": [
    "from pyspark.ml.linalg import VectorUDT"
   ]
  },
  {
   "cell_type": "code",
   "execution_count": 26,
   "metadata": {},
   "outputs": [],
   "source": [
    "to_dense_udf = fn.udf(to_dense, VectorUDT())"
   ]
  },
  {
   "cell_type": "markdown",
   "metadata": {},
   "source": [
    "Now we can use this function as part of our transformations"
   ]
  },
  {
   "cell_type": "code",
   "execution_count": 27,
   "metadata": {},
   "outputs": [
    {
     "name": "stdout",
     "output_type": "stream",
     "text": [
      "+--------------------+--------------------+\n",
      "|               tfidf|         dense_tfidf|\n",
      "+--------------------+--------------------+\n",
      "|(357,[0,1,9,12,14...|[1.85722243252439...|\n",
      "|(357,[1,2,3,4,16,...|[0.0,0.7221347174...|\n",
      "|(357,[2,3,8,22,24...|[0.0,0.0,1.252762...|\n",
      "|(357,[0,25,40,41,...|[0.92861121626219...|\n",
      "|(357,[0,1,3,4,7,1...|[0.46430560813109...|\n",
      "|(357,[0,1,6,12,19...|[1.39291682439329...|\n",
      "|(357,[0,4,10,11,2...|[0.92861121626219...|\n",
      "|(357,[0,1,4,5,14,...|[1.39291682439329...|\n",
      "|(357,[0,1,4,38,41...|[0.46430560813109...|\n",
      "|(357,[0,26,34,84,...|[0.46430560813109...|\n",
      "|(357,[1,5,10,24,3...|[0.0,0.7221347174...|\n",
      "|(357,[0,6,7,12,16...|[0.92861121626219...|\n",
      "|(357,[0,1,7,8,13,...|[0.46430560813109...|\n",
      "|(357,[0,6,13,14,1...|[0.46430560813109...|\n",
      "|(357,[1,5,10,27,4...|[0.0,0.7221347174...|\n",
      "|(357,[1,3,4,5,8,9...|[0.0,0.7221347174...|\n",
      "|(357,[0,1,6,9,47,...|[0.46430560813109...|\n",
      "|(357,[0,5,6,22,24...|[0.92861121626219...|\n",
      "|(357,[0,1,2,3,4,5...|[0.46430560813109...|\n",
      "|(357,[0,3,8,28,38...|[1.39291682439329...|\n",
      "+--------------------+--------------------+\n",
      "only showing top 20 rows\n",
      "\n"
     ]
    }
   ],
   "source": [
    "tfidf.transform(im_courses).select('tfidf', to_dense_udf('tfidf').alias('dense_tfidf')).show()"
   ]
  },
  {
   "cell_type": "markdown",
   "metadata": {},
   "source": [
    "Moreover, we want to make this as part of a Pipeline. This is a somewhat obscure and undocumented functionality of Spark. We will now define a simple `Transformer` that will apply the `to_dense_udf` to an input column:"
   ]
  },
  {
   "cell_type": "code",
   "execution_count": 28,
   "metadata": {},
   "outputs": [],
   "source": [
    "from pyspark import keyword_only\n",
    "from pyspark.ml import Transformer\n",
    "from pyspark.ml.param.shared import HasInputCol, HasOutputCol, Param\n",
    "\n",
    "\n",
    "class Densify(Transformer, HasInputCol, HasOutputCol):\n",
    "    @keyword_only\n",
    "    def __init__(self, inputCol=None, outputCol=None, stopwords=None):\n",
    "        super(Densify, self).__init__()\n",
    "        self._setDefault()\n",
    "#         print(self._input_kwargs)\n",
    "        kwargs = self._input_kwargs\n",
    "        self.setParams(**kwargs)\n",
    "\n",
    "    @keyword_only\n",
    "    def setParams(self, inputCol=None, outputCol=None):\n",
    "        kwargs = self._input_kwargs\n",
    "        return self._set(**kwargs)\n",
    "\n",
    "    def _transform(self, dataset):\n",
    "        out_col = self.getOutputCol()\n",
    "        in_col = dataset[self.getInputCol()]\n",
    "        return dataset.withColumn(out_col, to_dense_udf(in_col))"
   ]
  },
  {
   "cell_type": "code",
   "execution_count": 29,
   "metadata": {},
   "outputs": [],
   "source": [
    "dense_tfidf = Densify(inputCol='tfidf', outputCol='dense_tfidf')"
   ]
  },
  {
   "cell_type": "code",
   "execution_count": 30,
   "metadata": {},
   "outputs": [
    {
     "name": "stdout",
     "output_type": "stream",
     "text": [
      "+--------------------+--------------------+\n",
      "|               tfidf|         dense_tfidf|\n",
      "+--------------------+--------------------+\n",
      "|(357,[0,1,9,12,14...|[1.85722243252439...|\n",
      "|(357,[1,2,3,5,16,...|[0.0,0.7221347174...|\n",
      "|(357,[2,3,8,23,25...|[0.0,0.0,1.252762...|\n",
      "|(357,[0,24,43,45,...|[0.92861121626219...|\n",
      "|(357,[0,1,3,5,7,1...|[0.46430560813109...|\n",
      "|(357,[0,1,6,12,19...|[1.39291682439329...|\n",
      "|(357,[0,5,10,11,2...|[0.92861121626219...|\n",
      "|(357,[0,1,4,5,14,...|[1.39291682439329...|\n",
      "|(357,[0,1,5,44,45...|[0.46430560813109...|\n",
      "|(357,[0,21,41,67,...|[0.46430560813109...|\n",
      "|(357,[1,4,10,23,2...|[0.0,0.7221347174...|\n",
      "|(357,[0,6,7,12,16...|[0.92861121626219...|\n",
      "|(357,[0,1,7,8,13,...|[0.46430560813109...|\n",
      "|(357,[0,6,13,14,1...|[0.46430560813109...|\n",
      "|(357,[1,4,10,25,4...|[0.0,0.7221347174...|\n",
      "|(357,[1,3,4,5,8,9...|[0.0,0.7221347174...|\n",
      "|(357,[0,1,6,9,48,...|[0.46430560813109...|\n",
      "|(357,[0,4,6,23,26...|[0.92861121626219...|\n",
      "|(357,[0,1,2,3,4,5...|[0.46430560813109...|\n",
      "|(357,[0,3,8,27,44...|[1.39291682439329...|\n",
      "+--------------------+--------------------+\n",
      "only showing top 20 rows\n",
      "\n"
     ]
    }
   ],
   "source": [
    "pipeline2_model = Pipeline(stages=[tokenizer, sw_filter, cv, idf, dense_tfidf]).fit(im_courses)\n",
    "pipeline2_model.transform(im_courses).select('tfidf', 'dense_tfidf').show()"
   ]
  },
  {
   "cell_type": "code",
   "execution_count": 31,
   "metadata": {},
   "outputs": [],
   "source": [
    "# standardize features - it doesn't work in Spark 2.1\n",
    "center = feature.StandardScaler(withMean=True, withStd=False, inputCol='dense_tfidf', outputCol='centered_tfidf')"
   ]
  },
  {
   "cell_type": "markdown",
   "metadata": {},
   "source": [
    "And we will apply different unsupervised learning mechanisms:"
   ]
  },
  {
   "cell_type": "markdown",
   "metadata": {},
   "source": [
    "We need to define a custom transformer that takes a sparse vector and returns dense vector"
   ]
  },
  {
   "cell_type": "markdown",
   "metadata": {},
   "source": [
    "PCA needs the number of principal components to be learned:"
   ]
  },
  {
   "cell_type": "code",
   "execution_count": 32,
   "metadata": {},
   "outputs": [],
   "source": [
    "pca = feature.PCA(k=10, inputCol='centered_tfidf', outputCol='pca_feat')"
   ]
  },
  {
   "cell_type": "markdown",
   "metadata": {},
   "source": [
    "KMeans, we need to provide the number of clusters, but we will normalize the vectors so that they have unit length:"
   ]
  },
  {
   "cell_type": "code",
   "execution_count": 33,
   "metadata": {},
   "outputs": [],
   "source": [
    "norm = feature.Normalizer(inputCol=\"centered_tfidf\", outputCol=\"norm_tfidf\", p=2.0)"
   ]
  },
  {
   "cell_type": "code",
   "execution_count": 34,
   "metadata": {},
   "outputs": [],
   "source": [
    "kmeans = clustering.KMeans(k=5, featuresCol='norm_tfidf', predictionCol='kmeans_feat')"
   ]
  },
  {
   "cell_type": "markdown",
   "metadata": {},
   "source": [
    "Latent Dirichlet Allocation needs the number of topics and acts on raw tfidf:"
   ]
  },
  {
   "cell_type": "code",
   "execution_count": 35,
   "metadata": {},
   "outputs": [],
   "source": [
    "lda = clustering.LDA(k=5, featuresCol='tfidf', topicDistributionCol='lda_feat')"
   ]
  },
  {
   "cell_type": "code",
   "execution_count": 36,
   "metadata": {},
   "outputs": [],
   "source": [
    "pipeline = Pipeline(stages=[tokenizer, sw_filter, cv, idf, dense_tfidf, center, norm, kmeans, lda, pca])"
   ]
  },
  {
   "cell_type": "code",
   "execution_count": 37,
   "metadata": {},
   "outputs": [],
   "source": [
    "pipeline_model = pipeline.fit(im_courses)"
   ]
  },
  {
   "cell_type": "code",
   "execution_count": 38,
   "metadata": {
    "scrolled": false
   },
   "outputs": [
    {
     "name": "stdout",
     "output_type": "stream",
     "text": [
      "+-------+----+-------+--------------------+--------------------+--------------------+--------------------+--------------------+--------------------+--------------------+--------------------+--------------------+-----------+--------------------+--------------------+\n",
      "| course|core|credits|               title|         description|               words|            filtered|                  tf|               tfidf|         dense_tfidf|      centered_tfidf|          norm_tfidf|kmeans_feat|            lda_feat|            pca_feat|\n",
      "+-------+----+-------+--------------------+--------------------+--------------------+--------------------+--------------------+--------------------+--------------------+--------------------+--------------------+-----------+--------------------+--------------------+\n",
      "|IST 553|  IM|      3|Information Archi...|Building and mana...|[building, and, m...|[building, manage...|(357,[0,1,9,11,13...|(357,[0,1,9,11,13...|[1.85722243252439...|[1.39291682439329...|[0.13872833235603...|          2|[0.11787566938319...|[-0.6752213340342...|\n",
      "|IST 558| CAS|      3|Technologies in W...|Concepts and tech...|[concepts, and, t...|[concepts, techni...|(357,[1,2,3,5,13,...|(357,[1,2,3,5,13,...|[0.0,0.7221347174...|[-0.4643056081310...|[-0.0366053111174...|          1|[0.47460652705053...|[-1.0560092197231...|\n",
      "|IST 565| CAS|      3|         Data Mining|Introduction to d...|[introduction, to...|[introduction, da...|(357,[2,3,8,21,23...|(357,[2,3,8,21,23...|[0.0,0.0,1.252762...|[-0.4643056081310...|[-0.0398788714171...|          2|[0.00283682034291...|[0.19618219422530...|\n",
      "|IST 601|  IM|      3|Information and I...|A broad overview ...|[broad, overview,...|[broad, overview,...|(357,[0,19,51,59,...|(357,[0,19,51,59,...|[0.92861121626219...|[0.46430560813109...|[0.05153103151601...|          4|[0.00514240554939...|[-0.6823791849888...|\n",
      "|IST 614|  IM|      3|Management Princi...|Basic ideas, conc...|[basic, ideas, co...|[basic, ideas, co...|(357,[0,1,3,5,6,1...|(357,[0,1,3,5,6,1...|[0.46430560813109...|[0.0,0.3185888459...|[0.0,0.0272267479...|          0|[0.00300752574624...|[-1.3508184757797...|\n",
      "+-------+----+-------+--------------------+--------------------+--------------------+--------------------+--------------------+--------------------+--------------------+--------------------+--------------------+-----------+--------------------+--------------------+\n",
      "only showing top 5 rows\n",
      "\n"
     ]
    }
   ],
   "source": [
    "pipeline_model.transform(im_courses).show(5)"
   ]
  },
  {
   "cell_type": "code",
   "execution_count": 39,
   "metadata": {
    "scrolled": true
   },
   "outputs": [
    {
     "name": "stdout",
     "output_type": "stream",
     "text": [
      "+-------+--------------------+-----------+--------------------+\n",
      "| course|            pca_feat|kmeans_feat|            lda_feat|\n",
      "+-------+--------------------+-----------+--------------------+\n",
      "|IST 553|[-0.6752213340342...|          2|[0.11790482599999...|\n",
      "|IST 558|[-1.0560092197231...|          1|[0.47460797007841...|\n",
      "|IST 565|[0.19618219422530...|          2|[0.00283682039525...|\n",
      "|IST 601|[-0.6823791849888...|          4|[0.00514240561516...|\n",
      "|IST 614|[-1.3508184757797...|          0|[0.00300752575839...|\n",
      "|IST 617|[-1.0011668423934...|          2|[0.00303504213234...|\n",
      "|IST 618|[0.07015134336406...|          3|[0.00216943218223...|\n",
      "|IST 619|[-0.8783462827126...|          2|[0.00299257252940...|\n",
      "|IST 621|[-0.6168769630891...|          2|[0.00450034382751...|\n",
      "|IST 631|[-1.1184062933773...|          2|[0.00346499354436...|\n",
      "|IST 639|[8.23698193178384...|          2|[0.00221154699199...|\n",
      "|IST 641|[-2.1217616801297...|          1|[0.00271159023735...|\n",
      "|IST 645|[-1.6269837851599...|          0|[0.00341698610480...|\n",
      "|IST 649|[-0.5970215061387...|          0|[0.00485216276499...|\n",
      "|IST 653|[0.19330027837030...|          2|[0.00425585276149...|\n",
      "|IST 654|[-0.0474336068345...|          0|[0.00318531160063...|\n",
      "|IST 656|[-0.6389243479083...|          1|[0.00573729144843...|\n",
      "|IST 657|[-0.4549230319203...|          2|[0.00303896431284...|\n",
      "|IST 659|[2.48017259580620...|          3|[0.00252183333380...|\n",
      "|IST 662|[-0.9587498592994...|          2|[0.00327038433658...|\n",
      "+-------+--------------------+-----------+--------------------+\n",
      "only showing top 20 rows\n",
      "\n"
     ]
    }
   ],
   "source": [
    "pipeline_model.transform(im_courses).select('course', 'pca_feat', 'kmeans_feat', 'lda_feat').show()"
   ]
  },
  {
   "cell_type": "markdown",
   "metadata": {},
   "source": [
    "# Interpreation of the fits \n",
    "\n",
    "We can examine the loadings in the PCA:"
   ]
  },
  {
   "cell_type": "code",
   "execution_count": 40,
   "metadata": {},
   "outputs": [],
   "source": [
    "import pandas as pd"
   ]
  },
  {
   "cell_type": "code",
   "execution_count": 41,
   "metadata": {},
   "outputs": [
    {
     "data": {
      "text/plain": [
       "[RegexTokenizer_4da090bbe0d768cb3cca,\n",
       " StopWordsRemover_4abf83d5a9d1b357027d,\n",
       " CountVectorizer_494f86c95a127b968410,\n",
       " IDF_49eb8022e18b2b9e58bb,\n",
       " Densify_4a6c90297de5cc57a12a,\n",
       " StandardScaler_47bea520717845e16460,\n",
       " Normalizer_446583d8821ec61ac0bc,\n",
       " KMeans_4b5a88af9936b3ae1a26,\n",
       " LDA_4e03811c47857aa4de45,\n",
       " PCA_4419bfe10d5beaf19289]"
      ]
     },
     "execution_count": 41,
     "metadata": {},
     "output_type": "execute_result"
    }
   ],
   "source": [
    "pipeline_model.stages"
   ]
  },
  {
   "cell_type": "code",
   "execution_count": 42,
   "metadata": {},
   "outputs": [],
   "source": [
    "pca_model = pipeline_model.stages[-1]"
   ]
  },
  {
   "cell_type": "code",
   "execution_count": 43,
   "metadata": {},
   "outputs": [],
   "source": [
    "pc1 = pca_model.pc.toArray()[:, 0].tolist()\n",
    "pc2 = pca_model.pc.toArray()[:, 1].tolist()\n",
    "pc3 = pca_model.pc.toArray()[:, 2].tolist()"
   ]
  },
  {
   "cell_type": "code",
   "execution_count": 44,
   "metadata": {},
   "outputs": [],
   "source": [
    "vocabulary = pipeline_model.stages[2].vocabulary"
   ]
  },
  {
   "cell_type": "code",
   "execution_count": 45,
   "metadata": {},
   "outputs": [],
   "source": [
    "pc_loadings = pd.DataFrame([vocabulary, pc1, pc2, pc3]).T.rename(columns={0: 'word', \n",
    "                                                                          1: 'load_pc1',\n",
    "                                                                          2: 'load_pc2',\n",
    "                                                                          3: 'load_pc3',})"
   ]
  },
  {
   "cell_type": "code",
   "execution_count": 46,
   "metadata": {},
   "outputs": [
    {
     "data": {
      "text/html": [
       "<div>\n",
       "<style scoped>\n",
       "    .dataframe tbody tr th:only-of-type {\n",
       "        vertical-align: middle;\n",
       "    }\n",
       "\n",
       "    .dataframe tbody tr th {\n",
       "        vertical-align: top;\n",
       "    }\n",
       "\n",
       "    .dataframe thead th {\n",
       "        text-align: right;\n",
       "    }\n",
       "</style>\n",
       "<table border=\"1\" class=\"dataframe\">\n",
       "  <thead>\n",
       "    <tr style=\"text-align: right;\">\n",
       "      <th></th>\n",
       "      <th>word</th>\n",
       "      <th>load_pc1</th>\n",
       "      <th>load_pc2</th>\n",
       "      <th>load_pc3</th>\n",
       "    </tr>\n",
       "  </thead>\n",
       "  <tbody>\n",
       "    <tr>\n",
       "      <th>44</th>\n",
       "      <td>required</td>\n",
       "      <td>-0.067063</td>\n",
       "      <td>0.0054385</td>\n",
       "      <td>0.0715218</td>\n",
       "    </tr>\n",
       "    <tr>\n",
       "      <th>33</th>\n",
       "      <td>processing</td>\n",
       "      <td>-0.0654304</td>\n",
       "      <td>0.00737648</td>\n",
       "      <td>0.0743025</td>\n",
       "    </tr>\n",
       "    <tr>\n",
       "      <th>73</th>\n",
       "      <td>computational</td>\n",
       "      <td>-0.0613542</td>\n",
       "      <td>0.00504601</td>\n",
       "      <td>0.0764562</td>\n",
       "    </tr>\n",
       "    <tr>\n",
       "      <th>117</th>\n",
       "      <td>linguistic</td>\n",
       "      <td>-0.0613542</td>\n",
       "      <td>0.00504601</td>\n",
       "      <td>0.0764562</td>\n",
       "    </tr>\n",
       "    <tr>\n",
       "      <th>6</th>\n",
       "      <td>students</td>\n",
       "      <td>-0.0579638</td>\n",
       "      <td>0.00405441</td>\n",
       "      <td>0.0680286</td>\n",
       "    </tr>\n",
       "    <tr>\n",
       "      <th>80</th>\n",
       "      <td>complex</td>\n",
       "      <td>0.188491</td>\n",
       "      <td>-0.051103</td>\n",
       "      <td>0.00445523</td>\n",
       "    </tr>\n",
       "    <tr>\n",
       "      <th>63</th>\n",
       "      <td>architecture</td>\n",
       "      <td>0.188491</td>\n",
       "      <td>-0.051103</td>\n",
       "      <td>0.00445523</td>\n",
       "    </tr>\n",
       "    <tr>\n",
       "      <th>48</th>\n",
       "      <td>enterprise</td>\n",
       "      <td>0.254813</td>\n",
       "      <td>-0.453853</td>\n",
       "      <td>-0.0290984</td>\n",
       "    </tr>\n",
       "    <tr>\n",
       "      <th>20</th>\n",
       "      <td>databases</td>\n",
       "      <td>0.275076</td>\n",
       "      <td>0.199085</td>\n",
       "      <td>0.0735311</td>\n",
       "    </tr>\n",
       "    <tr>\n",
       "      <th>27</th>\n",
       "      <td>database</td>\n",
       "      <td>0.538651</td>\n",
       "      <td>0.366988</td>\n",
       "      <td>0.0595601</td>\n",
       "    </tr>\n",
       "  </tbody>\n",
       "</table>\n",
       "</div>"
      ],
      "text/plain": [
       "              word   load_pc1    load_pc2    load_pc3\n",
       "44        required  -0.067063   0.0054385   0.0715218\n",
       "33      processing -0.0654304  0.00737648   0.0743025\n",
       "73   computational -0.0613542  0.00504601   0.0764562\n",
       "117     linguistic -0.0613542  0.00504601   0.0764562\n",
       "6         students -0.0579638  0.00405441   0.0680286\n",
       "80         complex   0.188491   -0.051103  0.00445523\n",
       "63    architecture   0.188491   -0.051103  0.00445523\n",
       "48      enterprise   0.254813   -0.453853  -0.0290984\n",
       "20       databases   0.275076    0.199085   0.0735311\n",
       "27        database   0.538651    0.366988   0.0595601"
      ]
     },
     "execution_count": 46,
     "metadata": {},
     "output_type": "execute_result"
    }
   ],
   "source": [
    "# smallest and biggest loadings of pc1\n",
    "pd.concat((pc_loadings.sort_values('load_pc1').head(), \n",
    "           pc_loadings.sort_values('load_pc1').tail()))"
   ]
  },
  {
   "cell_type": "code",
   "execution_count": 47,
   "metadata": {},
   "outputs": [
    {
     "data": {
      "text/html": [
       "<div>\n",
       "<style scoped>\n",
       "    .dataframe tbody tr th:only-of-type {\n",
       "        vertical-align: middle;\n",
       "    }\n",
       "\n",
       "    .dataframe tbody tr th {\n",
       "        vertical-align: top;\n",
       "    }\n",
       "\n",
       "    .dataframe thead th {\n",
       "        text-align: right;\n",
       "    }\n",
       "</style>\n",
       "<table border=\"1\" class=\"dataframe\">\n",
       "  <thead>\n",
       "    <tr style=\"text-align: right;\">\n",
       "      <th></th>\n",
       "      <th>word</th>\n",
       "      <th>load_pc1</th>\n",
       "      <th>load_pc2</th>\n",
       "      <th>load_pc3</th>\n",
       "    </tr>\n",
       "  </thead>\n",
       "  <tbody>\n",
       "    <tr>\n",
       "      <th>48</th>\n",
       "      <td>enterprise</td>\n",
       "      <td>0.254813</td>\n",
       "      <td>-0.453853</td>\n",
       "      <td>-0.0290984</td>\n",
       "    </tr>\n",
       "    <tr>\n",
       "      <th>96</th>\n",
       "      <td>computing</td>\n",
       "      <td>0.169875</td>\n",
       "      <td>-0.302568</td>\n",
       "      <td>-0.019399</td>\n",
       "    </tr>\n",
       "    <tr>\n",
       "      <th>56</th>\n",
       "      <td>large</td>\n",
       "      <td>0.144783</td>\n",
       "      <td>-0.263025</td>\n",
       "      <td>-0.0181318</td>\n",
       "    </tr>\n",
       "    <tr>\n",
       "      <th>4</th>\n",
       "      <td>systems</td>\n",
       "      <td>0.0903704</td>\n",
       "      <td>-0.160692</td>\n",
       "      <td>0.0276732</td>\n",
       "    </tr>\n",
       "    <tr>\n",
       "      <th>197</th>\n",
       "      <td>technical</td>\n",
       "      <td>0.0849375</td>\n",
       "      <td>-0.151284</td>\n",
       "      <td>-0.00969948</td>\n",
       "    </tr>\n",
       "    <tr>\n",
       "      <th>178</th>\n",
       "      <td>reports</td>\n",
       "      <td>0.134663</td>\n",
       "      <td>0.091747</td>\n",
       "      <td>0.01489</td>\n",
       "    </tr>\n",
       "    <tr>\n",
       "      <th>99</th>\n",
       "      <td>security</td>\n",
       "      <td>0.116207</td>\n",
       "      <td>0.094556</td>\n",
       "      <td>-0.129068</td>\n",
       "    </tr>\n",
       "    <tr>\n",
       "      <th>109</th>\n",
       "      <td>warehouses</td>\n",
       "      <td>0.116554</td>\n",
       "      <td>0.097372</td>\n",
       "      <td>0.0149755</td>\n",
       "    </tr>\n",
       "    <tr>\n",
       "      <th>20</th>\n",
       "      <td>databases</td>\n",
       "      <td>0.275076</td>\n",
       "      <td>0.199085</td>\n",
       "      <td>0.0735311</td>\n",
       "    </tr>\n",
       "    <tr>\n",
       "      <th>27</th>\n",
       "      <td>database</td>\n",
       "      <td>0.538651</td>\n",
       "      <td>0.366988</td>\n",
       "      <td>0.0595601</td>\n",
       "    </tr>\n",
       "  </tbody>\n",
       "</table>\n",
       "</div>"
      ],
      "text/plain": [
       "           word   load_pc1  load_pc2    load_pc3\n",
       "48   enterprise   0.254813 -0.453853  -0.0290984\n",
       "96    computing   0.169875 -0.302568   -0.019399\n",
       "56        large   0.144783 -0.263025  -0.0181318\n",
       "4       systems  0.0903704 -0.160692   0.0276732\n",
       "197   technical  0.0849375 -0.151284 -0.00969948\n",
       "178     reports   0.134663  0.091747     0.01489\n",
       "99     security   0.116207  0.094556   -0.129068\n",
       "109  warehouses   0.116554  0.097372   0.0149755\n",
       "20    databases   0.275076  0.199085   0.0735311\n",
       "27     database   0.538651  0.366988   0.0595601"
      ]
     },
     "execution_count": 47,
     "metadata": {},
     "output_type": "execute_result"
    }
   ],
   "source": [
    "# smallest and biggest loadings of pc2\n",
    "pd.concat((pc_loadings.sort_values('load_pc2').head(), \n",
    "           pc_loadings.sort_values('load_pc2').tail()))"
   ]
  },
  {
   "cell_type": "code",
   "execution_count": 48,
   "metadata": {
    "scrolled": false
   },
   "outputs": [
    {
     "data": {
      "text/html": [
       "<div>\n",
       "<style scoped>\n",
       "    .dataframe tbody tr th:only-of-type {\n",
       "        vertical-align: middle;\n",
       "    }\n",
       "\n",
       "    .dataframe tbody tr th {\n",
       "        vertical-align: top;\n",
       "    }\n",
       "\n",
       "    .dataframe thead th {\n",
       "        text-align: right;\n",
       "    }\n",
       "</style>\n",
       "<table border=\"1\" class=\"dataframe\">\n",
       "  <thead>\n",
       "    <tr style=\"text-align: right;\">\n",
       "      <th></th>\n",
       "      <th>word</th>\n",
       "      <th>load_pc1</th>\n",
       "      <th>load_pc2</th>\n",
       "      <th>load_pc3</th>\n",
       "    </tr>\n",
       "  </thead>\n",
       "  <tbody>\n",
       "    <tr>\n",
       "      <th>131</th>\n",
       "      <td>policy</td>\n",
       "      <td>0.00144676</td>\n",
       "      <td>0.0368293</td>\n",
       "      <td>-0.330519</td>\n",
       "    </tr>\n",
       "    <tr>\n",
       "      <th>107</th>\n",
       "      <td>public</td>\n",
       "      <td>0.00144676</td>\n",
       "      <td>0.0368293</td>\n",
       "      <td>-0.330519</td>\n",
       "    </tr>\n",
       "    <tr>\n",
       "      <th>45</th>\n",
       "      <td>economic</td>\n",
       "      <td>-0.0149275</td>\n",
       "      <td>0.0125956</td>\n",
       "      <td>-0.184823</td>\n",
       "    </tr>\n",
       "    <tr>\n",
       "      <th>263</th>\n",
       "      <td>access</td>\n",
       "      <td>0.000723382</td>\n",
       "      <td>0.0184146</td>\n",
       "      <td>-0.165259</td>\n",
       "    </tr>\n",
       "    <tr>\n",
       "      <th>319</th>\n",
       "      <td>expression</td>\n",
       "      <td>0.000723382</td>\n",
       "      <td>0.0184146</td>\n",
       "      <td>-0.165259</td>\n",
       "    </tr>\n",
       "    <tr>\n",
       "      <th>126</th>\n",
       "      <td>administration</td>\n",
       "      <td>0.0155463</td>\n",
       "      <td>0.00854415</td>\n",
       "      <td>0.079552</td>\n",
       "    </tr>\n",
       "    <tr>\n",
       "      <th>25</th>\n",
       "      <td>modeling</td>\n",
       "      <td>0.00457799</td>\n",
       "      <td>0.00875369</td>\n",
       "      <td>0.0798089</td>\n",
       "    </tr>\n",
       "    <tr>\n",
       "      <th>54</th>\n",
       "      <td>projects</td>\n",
       "      <td>-0.0324584</td>\n",
       "      <td>-0.0187311</td>\n",
       "      <td>0.0871006</td>\n",
       "    </tr>\n",
       "    <tr>\n",
       "      <th>2</th>\n",
       "      <td>data</td>\n",
       "      <td>0.0864014</td>\n",
       "      <td>0.0851734</td>\n",
       "      <td>0.133236</td>\n",
       "    </tr>\n",
       "    <tr>\n",
       "      <th>47</th>\n",
       "      <td>metadata</td>\n",
       "      <td>-0.0223883</td>\n",
       "      <td>-0.0428104</td>\n",
       "      <td>0.194214</td>\n",
       "    </tr>\n",
       "  </tbody>\n",
       "</table>\n",
       "</div>"
      ],
      "text/plain": [
       "               word     load_pc1    load_pc2   load_pc3\n",
       "131          policy   0.00144676   0.0368293  -0.330519\n",
       "107          public   0.00144676   0.0368293  -0.330519\n",
       "45         economic   -0.0149275   0.0125956  -0.184823\n",
       "263          access  0.000723382   0.0184146  -0.165259\n",
       "319      expression  0.000723382   0.0184146  -0.165259\n",
       "126  administration    0.0155463  0.00854415   0.079552\n",
       "25         modeling   0.00457799  0.00875369  0.0798089\n",
       "54         projects   -0.0324584  -0.0187311  0.0871006\n",
       "2              data    0.0864014   0.0851734   0.133236\n",
       "47         metadata   -0.0223883  -0.0428104   0.194214"
      ]
     },
     "execution_count": 48,
     "metadata": {},
     "output_type": "execute_result"
    }
   ],
   "source": [
    "# smallest and biggest loadings of pc3\n",
    "pd.concat((pc_loadings.sort_values('load_pc3').head(), \n",
    "           pc_loadings.sort_values('load_pc3').tail()))"
   ]
  },
  {
   "cell_type": "markdown",
   "metadata": {},
   "source": [
    "# Visualize fit with PCA with 2 dimensions"
   ]
  },
  {
   "cell_type": "code",
   "execution_count": 49,
   "metadata": {},
   "outputs": [],
   "source": [
    "pipeline2_model = Pipeline(stages=[tokenizer, sw_filter, cv, idf, dense_tfidf, \n",
    "                                   feature.Normalizer(inputCol='dense_tfidf', outputCol='norm_tfidf'), \n",
    "                                   feature.StandardScaler(withMean=True, withStd=False, \n",
    "                                                          inputCol='norm_tfidf',\n",
    "                                                          outputCol='centered_tfidf'),\n",
    "                                   feature.PCA(k=2, inputCol='centered_tfidf', outputCol='pca_feat2')])\\\n",
    "    .fit(im_courses)"
   ]
  },
  {
   "cell_type": "code",
   "execution_count": 50,
   "metadata": {},
   "outputs": [],
   "source": [
    "course_names = np.array(im_courses.select('course').rdd.map(lambda x: x['course']).collect())\n",
    "X = np.array(pipeline2_model.transform(im_courses).select('pca_feat2').rdd.map(lambda x: x['pca_feat2']).collect())"
   ]
  },
  {
   "cell_type": "code",
   "execution_count": 51,
   "metadata": {},
   "outputs": [],
   "source": [
    "idx = np.abs(X[:, 0]) < 0.2\n",
    "X = X[idx]\n",
    "course_names = course_names[idx]"
   ]
  },
  {
   "cell_type": "code",
   "execution_count": 52,
   "metadata": {},
   "outputs": [
    {
     "data": {
      "image/png": "[encoded data removed]",
      "text/plain": [
       "<Figure size 432x288 with 1 Axes>"
      ]
     },
     "metadata": {
      "needs_background": "light"
     },
     "output_type": "display_data"
    }
   ],
   "source": [
    "fig, ax = plt.subplots()\n",
    "ax.scatter(X[:,0], X[:,1])\n",
    "\n",
    "for i, txt in enumerate(course_names):\n",
    "    ax.annotate(txt, (X[i,0], X[i,1]))"
   ]
  },
  {
   "cell_type": "code",
   "execution_count": 53,
   "metadata": {},
   "outputs": [],
   "source": [
    "pca_model = pipeline2_model.stages[-1]"
   ]
  },
  {
   "cell_type": "code",
   "execution_count": 54,
   "metadata": {},
   "outputs": [],
   "source": [
    "pc1 = pca_model.pc.toArray()[:, 0].tolist()\n",
    "pc2 = pca_model.pc.toArray()[:, 1].tolist()"
   ]
  },
  {
   "cell_type": "code",
   "execution_count": 55,
   "metadata": {},
   "outputs": [],
   "source": [
    "vocabulary = pipeline2_model.stages[2].vocabulary"
   ]
  },
  {
   "cell_type": "code",
   "execution_count": 56,
   "metadata": {},
   "outputs": [],
   "source": [
    "pc_loadings = pd.DataFrame([vocabulary, pc1, pc2]).T.rename(columns={0: 'word', \n",
    "                                                                          1: 'load_pc1',\n",
    "                                                                          2: 'load_pc2'})"
   ]
  },
  {
   "cell_type": "code",
   "execution_count": 57,
   "metadata": {},
   "outputs": [
    {
     "data": {
      "text/html": [
       "<div>\n",
       "<style scoped>\n",
       "    .dataframe tbody tr th:only-of-type {\n",
       "        vertical-align: middle;\n",
       "    }\n",
       "\n",
       "    .dataframe tbody tr th {\n",
       "        vertical-align: top;\n",
       "    }\n",
       "\n",
       "    .dataframe thead th {\n",
       "        text-align: right;\n",
       "    }\n",
       "</style>\n",
       "<table border=\"1\" class=\"dataframe\">\n",
       "  <thead>\n",
       "    <tr style=\"text-align: right;\">\n",
       "      <th></th>\n",
       "      <th>word</th>\n",
       "      <th>load_pc1</th>\n",
       "    </tr>\n",
       "  </thead>\n",
       "  <tbody>\n",
       "    <tr>\n",
       "      <th>18</th>\n",
       "      <td>research</td>\n",
       "      <td>0.11137</td>\n",
       "    </tr>\n",
       "    <tr>\n",
       "      <th>14</th>\n",
       "      <td>digital</td>\n",
       "      <td>0.0683895</td>\n",
       "    </tr>\n",
       "    <tr>\n",
       "      <th>6</th>\n",
       "      <td>design</td>\n",
       "      <td>0.0668912</td>\n",
       "    </tr>\n",
       "    <tr>\n",
       "      <th>10</th>\n",
       "      <td>issues</td>\n",
       "      <td>0.0572029</td>\n",
       "    </tr>\n",
       "    <tr>\n",
       "      <th>60</th>\n",
       "      <td>networks</td>\n",
       "      <td>0.0537774</td>\n",
       "    </tr>\n",
       "  </tbody>\n",
       "</table>\n",
       "</div>"
      ],
      "text/plain": [
       "        word   load_pc1\n",
       "18  research    0.11137\n",
       "14   digital  0.0683895\n",
       "6     design  0.0668912\n",
       "10    issues  0.0572029\n",
       "60  networks  0.0537774"
      ]
     },
     "execution_count": 57,
     "metadata": {},
     "output_type": "execute_result"
    }
   ],
   "source": [
    "pc_loadings.sort_values('load_pc1').\\\n",
    "    apply({'word': lambda x: x, 'load_pc1': np.abs}, axis=0).head(5)"
   ]
  },
  {
   "cell_type": "code",
   "execution_count": 58,
   "metadata": {
    "scrolled": true
   },
   "outputs": [
    {
     "data": {
      "text/html": [
       "<div>\n",
       "<style scoped>\n",
       "    .dataframe tbody tr th:only-of-type {\n",
       "        vertical-align: middle;\n",
       "    }\n",
       "\n",
       "    .dataframe tbody tr th {\n",
       "        vertical-align: top;\n",
       "    }\n",
       "\n",
       "    .dataframe thead th {\n",
       "        text-align: right;\n",
       "    }\n",
       "</style>\n",
       "<table border=\"1\" class=\"dataframe\">\n",
       "  <thead>\n",
       "    <tr style=\"text-align: right;\">\n",
       "      <th></th>\n",
       "      <th>word</th>\n",
       "      <th>load_pc2</th>\n",
       "    </tr>\n",
       "  </thead>\n",
       "  <tbody>\n",
       "    <tr>\n",
       "      <th>18</th>\n",
       "      <td>research</td>\n",
       "      <td>0.346353</td>\n",
       "    </tr>\n",
       "    <tr>\n",
       "      <th>42</th>\n",
       "      <td>user</td>\n",
       "      <td>0.175591</td>\n",
       "    </tr>\n",
       "    <tr>\n",
       "      <th>70</th>\n",
       "      <td>transfer</td>\n",
       "      <td>0.16139</td>\n",
       "    </tr>\n",
       "    <tr>\n",
       "      <th>97</th>\n",
       "      <td>procedures</td>\n",
       "      <td>0.154404</td>\n",
       "    </tr>\n",
       "    <tr>\n",
       "      <th>93</th>\n",
       "      <td>practices</td>\n",
       "      <td>0.141174</td>\n",
       "    </tr>\n",
       "  </tbody>\n",
       "</table>\n",
       "</div>"
      ],
      "text/plain": [
       "          word  load_pc2\n",
       "18    research  0.346353\n",
       "42        user  0.175591\n",
       "70    transfer   0.16139\n",
       "97  procedures  0.154404\n",
       "93   practices  0.141174"
      ]
     },
     "execution_count": 58,
     "metadata": {},
     "output_type": "execute_result"
    }
   ],
   "source": [
    "pc_loadings.sort_values('load_pc2').\\\n",
    "    apply({'word': lambda x: x, 'load_pc2': np.abs}, axis=0).head(5)"
   ]
  },
  {
   "cell_type": "markdown",
   "metadata": {
    "collapsed": true
   },
   "source": [
    "# Examine LDA"
   ]
  },
  {
   "cell_type": "code",
   "execution_count": 59,
   "metadata": {},
   "outputs": [],
   "source": [
    "lda_model = pipeline_model.stages[-2]"
   ]
  },
  {
   "cell_type": "code",
   "execution_count": 60,
   "metadata": {},
   "outputs": [
    {
     "name": "stdout",
     "output_type": "stream",
     "text": [
      "+-----+-----------+--------------------+\n",
      "|topic|termIndices|         termWeights|\n",
      "+-----+-----------+--------------------+\n",
      "|    0|  [114, 15]|[0.02131339012610...|\n",
      "|    1|  [38, 110]|[0.03191593532699...|\n",
      "|    2|   [7, 108]|[0.02246973843947...|\n",
      "|    3| [107, 131]|[0.01989899489420...|\n",
      "|    4|    [2, 69]|[0.01817362627580...|\n",
      "+-----+-----------+--------------------+\n",
      "\n"
     ]
    }
   ],
   "source": [
    "lda_model.describeTopics(maxTermsPerTopic=2).show()"
   ]
  },
  {
   "cell_type": "code",
   "execution_count": 61,
   "metadata": {},
   "outputs": [],
   "source": [
    "# get the terms\n",
    "terms_matrix = np.array(lda_model.describeTopics(2).rdd.map(lambda x: x['termIndices']).collect())"
   ]
  },
  {
   "cell_type": "code",
   "execution_count": 62,
   "metadata": {},
   "outputs": [
    {
     "data": {
      "text/plain": [
       "array([['warehouses', 'organization'],\n",
       "       ['using', 'visualization'],\n",
       "       ['students', 'policy'],\n",
       "       ['case', 'solution'],\n",
       "       ['data', 'theories']], dtype='<U18')"
      ]
     },
     "execution_count": 62,
     "metadata": {},
     "output_type": "execute_result"
    }
   ],
   "source": [
    "np.array(vocabulary)[terms_matrix]"
   ]
  },
  {
   "cell_type": "code",
   "execution_count": 63,
   "metadata": {},
   "outputs": [
    {
     "data": {
      "text/plain": [
       "DenseVector([0.0041, 0.0039, 0.0047, 0.0042, 0.9831])"
      ]
     },
     "execution_count": 63,
     "metadata": {},
     "output_type": "execute_result"
    }
   ],
   "source": [
    "# which topic best describes IST 718\n",
    "pipeline_model.transform(im_courses).where(\"course == 'IST 718'\").first()['lda_feat']"
   ]
  },
  {
   "cell_type": "markdown",
   "metadata": {},
   "source": [
    "# Examine K-means"
   ]
  },
  {
   "cell_type": "code",
   "execution_count": 64,
   "metadata": {},
   "outputs": [
    {
     "data": {
      "text/plain": [
       "array([[1,\n",
       "        list(['IST 558-Technologies in Web Content Management', 'IST 641-User-Based Design', 'IST 656-Telecommunications and Enterprise Network Management II'])],\n",
       "       [3,\n",
       "        list(['IST 618-Information Policy', 'IST 659-Data Administration Concepts and Database Management', 'IST 722-Data Warehouse', 'IST 769-Advanced Database Administration Concepts and Database Management'])],\n",
       "       [4,\n",
       "        list(['IST 601-Information and Information Environments', 'IST 681-Metadata', 'IST 687-Applied Data Science', 'IST 718-Advanced Information Analytics', 'IST 719-Information Visualization'])],\n",
       "       [2,\n",
       "        list(['IST 553-Information Architecture for Internet Services', 'IST 565-Data Mining', 'IST 617-Motivational Aspects of Information Use', 'IST 619-Applied Economics for Information Managers', 'IST 621-Introduction to Information Management', 'IST 631-Theory of Classification and Subject Representation', 'IST 639-Enterprise Technologies', 'IST 653-Telecommunications and Enterprise Network Management I', 'IST 657-Basics of Information Retrieval Systems', 'IST 662-Instructional Strategies and Techniques for Information Professionals', 'IST 676-Foundations of Digital Data', 'IST 677-Creating, Managing, and Preserving Digital Assets', 'IST 971-Internship in Information Studies'])],\n",
       "       [0,\n",
       "        list(['IST 614-Management Principles for Information Professionals', 'IST 645-Managing Information Systems Projects', 'IST 649-Human Interaction with Computers', 'IST 654-Information Systems Analysis', 'IST 664-Natural Language Processing', 'IST 736-Text Mining', 'IST 755-Strategic Management of Information Resources', 'IST 776-Research Methods in Information Science and Technology', 'IST 777-Statistical Methods in Information Science and Technology'])]],\n",
       "      dtype=object)"
      ]
     },
     "execution_count": 64,
     "metadata": {},
     "output_type": "execute_result"
    }
   ],
   "source": [
    "pipeline_model.transform(im_courses).\\\n",
    "    groupBy('kmeans_feat').agg(fn.collect_list(\n",
    "    fn.concat_ws('-', fn.col('course'), fn.col('title'))).alias('courses')).toPandas().values"
   ]
  },
  {
   "cell_type": "markdown",
   "metadata": {},
   "source": [
    "\n",
    "# Make recommendations"
   ]
  },
  {
   "cell_type": "markdown",
   "metadata": {},
   "source": [
    "To make recommendations, we need compute the distance between a vector and all the other courses in our dataset. To do this, we need to define a User Defined Function (UDF) that takes as input two column vectors and returns the distance between them."
   ]
  },
  {
   "cell_type": "code",
   "execution_count": 65,
   "metadata": {},
   "outputs": [],
   "source": [
    "from pyspark.sql import types"
   ]
  },
  {
   "cell_type": "code",
   "execution_count": 66,
   "metadata": {},
   "outputs": [],
   "source": [
    "import numpy as np\n",
    "def l2_dist(c1, c2):    \n",
    "    return float(np.sqrt((c1 - c2).T.dot((c1 - c2))))"
   ]
  },
  {
   "cell_type": "markdown",
   "metadata": {},
   "source": [
    "Let's take the PCA features of IST 718."
   ]
  },
  {
   "cell_type": "code",
   "execution_count": 67,
   "metadata": {},
   "outputs": [],
   "source": [
    "l2_dist_udf = fn.udf(l2_dist, types.FloatType())"
   ]
  },
  {
   "cell_type": "markdown",
   "metadata": {},
   "source": [
    "Spark doesn't allow a join without a condition because it could be too computationally expensive. We have to enable it by running the following command"
   ]
  },
  {
   "cell_type": "code",
   "execution_count": 68,
   "metadata": {},
   "outputs": [
    {
     "name": "stdout",
     "output_type": "stream",
     "text": [
      "+--------------------+-----+\n",
      "|                 key|value|\n",
      "+--------------------+-----+\n",
      "|spark.sql.crossJo...| TRUE|\n",
      "+--------------------+-----+\n",
      "\n"
     ]
    }
   ],
   "source": [
    "spark.sql(\"SET spark.sql.crossJoin.enabled=TRUE\").show()"
   ]
  },
  {
   "cell_type": "code",
   "execution_count": 69,
   "metadata": {
    "scrolled": false
   },
   "outputs": [
    {
     "data": {
      "text/html": [
       "<div>\n",
       "<style scoped>\n",
       "    .dataframe tbody tr th:only-of-type {\n",
       "        vertical-align: middle;\n",
       "    }\n",
       "\n",
       "    .dataframe tbody tr th {\n",
       "        vertical-align: top;\n",
       "    }\n",
       "\n",
       "    .dataframe thead th {\n",
       "        text-align: right;\n",
       "    }\n",
       "</style>\n",
       "<table border=\"1\" class=\"dataframe\">\n",
       "  <thead>\n",
       "    <tr style=\"text-align: right;\">\n",
       "      <th></th>\n",
       "      <th>course</th>\n",
       "      <th>description</th>\n",
       "      <th>dist</th>\n",
       "    </tr>\n",
       "  </thead>\n",
       "  <tbody>\n",
       "    <tr>\n",
       "      <th>0</th>\n",
       "      <td>IST 718</td>\n",
       "      <td>A broad introduction to analytical processing ...</td>\n",
       "      <td>0.000000</td>\n",
       "    </tr>\n",
       "    <tr>\n",
       "      <th>1</th>\n",
       "      <td>IST 719</td>\n",
       "      <td>A broad introduction to data visualization for...</td>\n",
       "      <td>1.466475</td>\n",
       "    </tr>\n",
       "    <tr>\n",
       "      <th>2</th>\n",
       "      <td>IST 565</td>\n",
       "      <td>Introduction to data mining techniques, famili...</td>\n",
       "      <td>4.206517</td>\n",
       "    </tr>\n",
       "    <tr>\n",
       "      <th>3</th>\n",
       "      <td>IST 662</td>\n",
       "      <td>Introduction to information literacy models fo...</td>\n",
       "      <td>4.281012</td>\n",
       "    </tr>\n",
       "    <tr>\n",
       "      <th>4</th>\n",
       "      <td>IST 601</td>\n",
       "      <td>A broad overview of the field and an orientati...</td>\n",
       "      <td>4.523474</td>\n",
       "    </tr>\n",
       "  </tbody>\n",
       "</table>\n",
       "</div>"
      ],
      "text/plain": [
       "    course                                        description      dist\n",
       "0  IST 718  A broad introduction to analytical processing ...  0.000000\n",
       "1  IST 719  A broad introduction to data visualization for...  1.466475\n",
       "2  IST 565  Introduction to data mining techniques, famili...  4.206517\n",
       "3  IST 662  Introduction to information literacy models fo...  4.281012\n",
       "4  IST 601  A broad overview of the field and an orientati...  4.523474"
      ]
     },
     "execution_count": 69,
     "metadata": {},
     "output_type": "execute_result"
    }
   ],
   "source": [
    "pipeline_model.transform(im_courses).\\\n",
    "    where('course == \"IST 718\"').\\\n",
    "    select(fn.col(\"pca_feat\").alias('query_feat')).\\\n",
    "    join(pipeline_model.transform(im_courses)).\\\n",
    "    withColumn('dist', l2_dist_udf('pca_feat', 'query_feat')).\\\n",
    "    select(\"course\", \"description\", \"dist\").\\\n",
    "    orderBy(fn.asc(\"dist\")).\\\n",
    "    limit(5).\\\n",
    "    toPandas()"
   ]
  }
 ],
 "metadata": {
  "anaconda-cloud": {},
  "kernelspec": {
   "display_name": "Python 3",
   "language": "python",
   "name": "python3"
  },
  "language_info": {
   "codemirror_mode": {
    "name": "ipython",
    "version": 3
   },
   "file_extension": ".py",
   "mimetype": "text/x-python",
   "name": "python",
   "nbconvert_exporter": "python",
   "pygments_lexer": "ipython3",
   "version": "3.7.6"
  },
  "name": "unit+08-unsupervised+learning",
  "notebookId": 2171802735104084
 },
 "nbformat": 4,
 "nbformat_minor": 1
}
