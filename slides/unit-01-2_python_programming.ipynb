{
 "cells": [
  {
   "cell_type": "markdown",
   "metadata": {
    "slideshow": {
     "slide_type": "slide"
    }
   },
   "source": [
    "<center> <h1>Unit 1.2</h1> </center>\n",
    "<center> <h1>Python programming</h1> </center>\n",
    "<center>(Execute \"Basic Python.ipynb\" along)</center>\n",
    "<br>\n",
    "<br>\n",
    "<br>\n",
    "<center> <h3>IST 718 – Big Data Analytics</h3> </center>\n",
    "<center> <h3>Daniel E. Acuna</h3> </center>\n",
    "<center> <h3>http://acuna.io</h3> </center>"
   ]
  },
  {
   "cell_type": "markdown",
   "metadata": {
    "slideshow": {
     "slide_type": "slide"
    }
   },
   "source": [
    "# Resources\n",
    "- If you are coming from R:  \n",
    "http://mathesaurus.sourceforge.net/matlab-python-xref.pdf\n",
    "- Python Essential Training in Lynda.com:  \n",
    "https://www.lynda.com/Python-tutorials/Python-Essential-Training/614299-2.html\n",
    "- Python for Data Science:  \n",
    "https://www.lynda.com/Python-tutorials/Python-Data-Science-Essential-Training/520233-2.html\n",
    "- Learn Python the Hard Way (book):  \n",
    "https://learnpythonthehardway.org/python3/\n",
    "- Learn Git and Github (today!):  \n",
    "https://www.lynda.com/Git-tutorials/Up-Running-Git-GitHub/409275-2.html"
   ]
  },
  {
   "cell_type": "markdown",
   "metadata": {
    "slideshow": {
     "slide_type": "slide"
    }
   },
   "source": [
    "# Install\n",
    "- If you haven’t yet, install Anaconda Python https://docs.continuum.io/anaconda/install/\n",
    "- Check that it is installed when you open your terminal by running:\n",
    "```sh\n",
    ">> python --version\n",
    "Python 3.5.3 :: Anaconda 4.4.0 (x86_64)\n",
    "```\n",
    "- Create the following script:\n",
    "```python\n",
    "print(“Hello, World”)\n",
    "```\n",
    "- Save as `hello_world.py`\n",
    "- Run `python hello_world.py`"
   ]
  },
  {
   "cell_type": "markdown",
   "metadata": {
    "slideshow": {
     "slide_type": "slide"
    }
   },
   "source": [
    "# Different ways of interacting with Python: script\n",
    "- One good editor for Python is Visual Studio Code (https://code.visualstudio.com/)\n",
    "- Also PyCharm provides an academic license (need `.edu` email): https://www.jetbrains.com/pycharm/\n",
    "- You can put your code in a file and then execute it with Python like before\n",
    "- Or you can use `ipython` in the terminal\n",
    "- Or you can use `jupyter notebook`"
   ]
  },
  {
   "cell_type": "markdown",
   "metadata": {
    "slideshow": {
     "slide_type": "slide"
    }
   },
   "source": [
    "# Jupyter Notebook Demo\n",
    "Learn:\n",
    "1. Jupyter notebook architecture\n",
    "1. Cell\n",
    "1. Cell type (e.g., markdown, code)\n",
    "1. Executing code in a cell\n",
    "1. Show line number\n",
    "1. Command and edit mode\n",
    "1. Delete cell\n",
    "1. Insert cell\n",
    "1. Block comment\n",
    "1. Change notebook name\n",
    "1. Save notebook\n",
    "1. Validate tests (only visible tests)\n",
    "1. Download notebook\n",
    "1. Upload notebook"
   ]
  },
  {
   "cell_type": "markdown",
   "metadata": {
    "slideshow": {
     "slide_type": "slide"
    }
   },
   "source": [
    "# Python is Powerful and Easy to Understand\n",
    "```python\n",
    "adjectives = ['awesome','good','excellent','awful','terrible']\n",
    "count = 0\n",
    "for word in adjectives :\n",
    "    if word[0] == 'a':\n",
    "        print(word)\n",
    "        count += 1\n",
    "print (\"Found \", count ,\" adjectives that start with 'a'\")\n",
    "```  \n",
    "\n",
    "Can you figure out what does this program do? Take a minute."
   ]
  },
  {
   "cell_type": "markdown",
   "metadata": {
    "slideshow": {
     "slide_type": "slide"
    }
   },
   "source": [
    "# Python Language Basics"
   ]
  },
  {
   "cell_type": "markdown",
   "metadata": {
    "slideshow": {
     "slide_type": "slide"
    }
   },
   "source": [
    "# Data Types\n",
    "- Python has the expected data types like int, float, bool, str\n",
    "- Python also contains types for collections of data:\n",
    "  - tuple: immutable collection\n",
    "  - list: all-purpose container for any data types\n",
    "  - set: a container for unordered, unique values\n",
    "  - dict: for storing maps of values (key/value pairs)\n",
    "- Python is *loosely-typed*. Meaning you can change types later."
   ]
  },
  {
   "cell_type": "markdown",
   "metadata": {
    "slideshow": {
     "slide_type": "slide"
    }
   },
   "source": [
    "# Demo: Data Types"
   ]
  },
  {
   "cell_type": "markdown",
   "metadata": {
    "slideshow": {
     "slide_type": "notes"
    }
   },
   "source": [
    "Demonstrate the various types using the Jupyter Interactive console. Explain that the interactive console allows you to evaluate expressions as you enter them\n",
    "\n",
    "For example \n",
    "\n",
    "X = [1,2,3]\n",
    "Type(X)\n",
    "X = (1,2,3,)\n",
    "Type (X)\n",
    "\n",
    "Also show how you can convert data types\n",
    "X = (1,2,3)\n",
    "Type ( list (X) )"
   ]
  },
  {
   "cell_type": "markdown",
   "metadata": {
    "slideshow": {
     "slide_type": "slide"
    }
   },
   "source": [
    "<h1><font color=\"orange\">Quick Check: What Type is it?</font></h1>\n",
    "<br>\n",
    "<div class=\"container2\">\n",
    "  <div class=\"row2\">\n",
    "    <div class=\"col-6\">\n",
    "        <ul>\n",
    "  <li>4.5</li>\n",
    "  <li>\"4.5\"</li>\n",
    "  <li>[4.5]</li>\n",
    "  <li>{ 'x' : 4.5 }</li>\n",
    "  <li>(4.5)</li>    \n",
    "</ul>\n",
    "      </div>\n",
    "    <div class=\"col-6\">\n",
    "        <ul>\n",
    "  <li>int</li>\n",
    "  <li>str</li>\n",
    "  <li>float</li>\n",
    "  <li>bool</li>\n",
    "  <li>tuple</li>\n",
    "  <li>dict</li>\n",
    "  <li>list </li>\n",
    "</ul>\n",
    "    </div>\n",
    "  </div>\n",
    "</div>"
   ]
  },
  {
   "cell_type": "markdown",
   "metadata": {
    "slideshow": {
     "slide_type": "slide"
    }
   },
   "source": [
    "# Lists\n",
    "- A ***list*** is a mutable collection of any data type\n",
    "- Lists are defined using square brackets\n",
    "- Python list functions:\n",
    "https://docs.python.org/3/tutorial/datastructures.html \n",
    "- List items are indexed starting at 0\n",
    "- Slice notation can be used to obtain a sub-list of values `x[2:4]` equal to a list of `X[2]` and `x[3]` \n",
    "- `split()` makes a list from a string\n",
    "- `range()` produces a sequential list of int\n",
    "```python\n",
    "adjectives = ['awesome','good','excellent','awful','terrible']\n",
    "temperatures = [87, 56, -4, 70, 92, 60, 38, 87, 64, 71]\n",
    "coordinates = [(-34, 77), (45, -82)]\n",
    "```"
   ]
  },
  {
   "cell_type": "markdown",
   "metadata": {
    "slideshow": {
     "slide_type": "slide"
    }
   },
   "source": [
    "# Demo: Python Lists"
   ]
  },
  {
   "cell_type": "markdown",
   "metadata": {
    "slideshow": {
     "slide_type": "notes"
    }
   },
   "source": [
    "Use the notebook: \n",
    "\n",
    "adjectives = ['awesome','good','excellent','awful','terrible']\n",
    "temperatures = [87, 56, -4, 70, 92, 60, 38, 87, 64, 71]\n",
    "coordinates = [ (-34, 77), (45, -82)]\n",
    "\n",
    "Indexing:  adjectives[0]  and adjectives[-1]\n",
    "\n",
    "Slicing:  temperatures[4:7] and temperatures[7:] and temperatures[:]\n",
    "\n",
    "Split\n",
    "Names = split(“mike tom bill dave”)\n",
    "\n",
    "Sequences:\n",
    "Nums = list(range(1,11))\n",
    "\n",
    "Counting items \n",
    "x = (‘a’,’b’,’c’,’a’)\n",
    "Len(x)\n",
    "x.count(‘a’)"
   ]
  },
  {
   "cell_type": "markdown",
   "metadata": {
    "slideshow": {
     "slide_type": "slide"
    }
   },
   "source": [
    "<h1><font color=\"orange\">Quick Check: Lists</font></h1>\n",
    "\n",
    "Code:\n",
    "```python\n",
    "X = [1,1,2,3]\n",
    "Y = X + [4]\n",
    "Z = Y[1:3]\n",
    "```\n",
    "\n",
    "What is:\n",
    "```\n",
    "1. Y?\n",
    "2. Z?\n",
    "3. Y[:3]?\n",
    "4. len(Y)?\n",
    "5. X[2]?\n",
    "```"
   ]
  },
  {
   "cell_type": "markdown",
   "metadata": {
    "slideshow": {
     "slide_type": "slide"
    }
   },
   "source": [
    "# Program Flow Control: IF\n",
    "- The `if` statement is used to branch your code based on a Boolean (`True`/`False`) expression.\n",
    "```python\n",
    "if boolean_expression:\n",
    "\t# statements when true\n",
    "else:\n",
    "\t# statements when false\n",
    "```"
   ]
  },
  {
   "cell_type": "markdown",
   "metadata": {
    "slideshow": {
     "slide_type": "slide"
    }
   },
   "source": [
    "# Program Flow Control: IF ladder\n",
    "Use `elif` to make more than one decision in your `if` statement\n",
    "```python\n",
    "if boolean_expression1:\n",
    "\t# statements when exp1 true\n",
    "elif boolean_expression2:\n",
    "\t# statements when exp2 true\n",
    "else:\n",
    "\t# statements when false\n",
    "```"
   ]
  },
  {
   "cell_type": "markdown",
   "metadata": {
    "slideshow": {
     "slide_type": "slide"
    }
   },
   "source": [
    "# Program Flow Control: WHILE\n",
    "The `while` statement is a loop. It is used to repeat statements as long as a Boolean expression is true.\n",
    "```python\n",
    "while boolean_expression:\n",
    "    # statements to\n",
    "    # repeat while true\n",
    "```"
   ]
  },
  {
   "cell_type": "markdown",
   "metadata": {
    "slideshow": {
     "slide_type": "slide"
    }
   },
   "source": [
    "# Program Flow Control: FOR\n",
    "The `for` statement is a loop. It is used to iterate over a list of items.\n",
    "```python\n",
    "for variable in list:\n",
    "\t# statements to\n",
    "    # do for each item\n",
    "```    "
   ]
  },
  {
   "cell_type": "markdown",
   "metadata": {
    "slideshow": {
     "slide_type": "slide"
    }
   },
   "source": [
    "# Infamous Fizz Buzz interview question\n",
    "\"Write a program that prints the numbers from 1 to 100. But for multiples of three print \"Fizz\" instead of the number and for the multiples of five print \"Buzz\". For numbers which are multiples of both three and five print \"FizzBuzz\".\""
   ]
  },
  {
   "cell_type": "markdown",
   "metadata": {
    "slideshow": {
     "slide_type": "slide"
    }
   },
   "source": [
    "# Python Strings\n",
    "- Python has an extensive library of functions for manipulating strings:  \n",
    "https://docs.python.org/3/library/stdtypes.html?highlight=upper#string-methods \n",
    "```python\n",
    "today = \"wednesDay\"\n",
    "print(today.capitalize(), today.upper(), today.index(\"ne\"))\n",
    "```\n",
    "```\n",
    ">> Wednesday WEDNESDAY 3\n",
    "```"
   ]
  },
  {
   "cell_type": "markdown",
   "metadata": {
    "slideshow": {
     "slide_type": "notes"
    }
   },
   "source": [
    "If You have time, improve your previous example using string.punctuation "
   ]
  },
  {
   "cell_type": "markdown",
   "metadata": {
    "slideshow": {
     "slide_type": "slide"
    }
   },
   "source": [
    "# Functions\n",
    "- Use the `def` keyword to define a custom function.\n",
    "- Use `return` to send a value back to the function caller.\n",
    "```python\n",
    "def function_name (arguments):\n",
    "\t# statements in function\n",
    "    return expression_value\n",
    "```"
   ]
  },
  {
   "cell_type": "markdown",
   "metadata": {
    "slideshow": {
     "slide_type": "slide"
    }
   },
   "source": [
    "# Demo: Functions\n",
    "- Fibonacci seq\n",
    "\n",
    "$$f(n) = f(n-2) + f(n-1)$$\n",
    "$$f(1) = f(2) = 1$$"
   ]
  },
  {
   "cell_type": "markdown",
   "metadata": {
    "slideshow": {
     "slide_type": "slide"
    }
   },
   "source": [
    "# Dictionaries\n",
    "- Dictionaries are Key-Value pairs\n",
    "- Defined with curly brackets **{ }**\n",
    "- Values are indexed by their key\n",
    "- `KeyError` when key does not exist\n",
    "- Circumvent with `.get()`\n",
    "```python\n",
    "personal_info = {'Name':'John', 'Age':34, 'Height': 68.4}\n",
    "print(personal_info['Age'])\n",
    "```\n",
    "```\n",
    ">> 34\n",
    "```"
   ]
  },
  {
   "cell_type": "markdown",
   "metadata": {
    "slideshow": {
     "slide_type": "slide"
    }
   },
   "source": [
    "# Demo: Dictionaries"
   ]
  },
  {
   "cell_type": "markdown",
   "metadata": {
    "slideshow": {
     "slide_type": "notes"
    }
   },
   "source": [
    "Demo dictionary access.\n",
    "\n",
    "personal_info = {'Name':'John', 'Age':34, 'Height': 68.4}\n",
    "print personal_info['Age']\n",
    "\n",
    "\n",
    "Show how a key gets added: personal_info[‘Weight’] = 170\n",
    "\n",
    "show how key error works: personal_info[‘GPA’]\n",
    "\n",
    "Then demonstrate how it can be avoided with the get method personal_info.get(‘gpa’,0)"
   ]
  },
  {
   "cell_type": "markdown",
   "metadata": {
    "slideshow": {
     "slide_type": "slide"
    }
   },
   "source": [
    "<h1><font color=\"orange\">Quick Check: Dictionaries</font></h1>\n",
    "```python\n",
    "Code:\n",
    "S = {'name' : 'bob', 'gpa'  : 3.4 }\n",
    "S['major'] = 'IM&T'\n",
    "```\n",
    "\n",
    "What is:\n",
    "```console\n",
    "1. S['gpa']?\n",
    "2. S['Name']?\n",
    "3. S[0]?\n",
    "4. S.get(0,1)?\n",
    "```"
   ]
  },
  {
   "cell_type": "markdown",
   "metadata": {
    "slideshow": {
     "slide_type": "notes"
    }
   },
   "source": [
    "3.4\n",
    "KeyError\n",
    "KeyError\n",
    "1"
   ]
  },
  {
   "cell_type": "markdown",
   "metadata": {
    "slideshow": {
     "slide_type": "slide"
    }
   },
   "source": [
    "<h1><font color=\"skiblue\">Help Me Code!</font></h1>\n",
    "- Help me write a Python program to read in a string and output a dictionary of words and their frequencies.\n",
    "- NOTE: Be sure to strip out the punctuation!\n"
   ]
  },
  {
   "cell_type": "markdown",
   "metadata": {
    "slideshow": {
     "slide_type": "slide"
    }
   },
   "source": [
    "# Comprehensions\n",
    "- A list comprehension consists of the following parts:\n",
    "  - An Input Sequence.\n",
    "  - A Variable representing members of the input sequence.\n",
    "  - An Optional Predicate expression.\n",
    "  - An Output Expression producing elements of the output list from members of the Input Sequence that satisfy the predicate.\n",
    "\n",
    "```python\n",
    "a_list = [1, '4', 9, 'a', 0, 4]\n",
    "squared_ints = [e**2 for e in a_list if type(e) == types.IntType]\n",
    "print(squared_ints) # [1, 81, 0, 16]\n",
    "```\n",
    "<center><img src=\"./images/unit-02/unit-02-0_pfds1.png\" width=\"50%\" align=\"center\"></center>"
   ]
  },
  {
   "cell_type": "markdown",
   "metadata": {
    "slideshow": {
     "slide_type": "slide"
    }
   },
   "source": [
    "# Other comprehensions\n",
    "- Similarly we can create tuple, sets, and dictionary comprehensions\n",
    "```python\n",
    "(a for a in range(10)) # tuple\n",
    "{a for a in range(10)} # set\n",
    "{k: v for k, v in [(1, 2), (3, 4)]} # dictionary\n",
    "```\n",
    "- Nested list comprehension\n",
    "```python\n",
    "[[(i,j) for i in range(10)] for j in range(10)]\n",
    "```"
   ]
  },
  {
   "cell_type": "markdown",
   "metadata": {
    "slideshow": {
     "slide_type": "slide"
    }
   },
   "source": [
    "# Demo: Lists of Dictionaries & List Comprehensions\n",
    "<h3><font color=\"gray\">For Representing Tables of Data</font></h3>"
   ]
  },
  {
   "cell_type": "markdown",
   "metadata": {
    "slideshow": {
     "slide_type": "notes"
    }
   },
   "source": [
    "Create this list of dict:\n",
    "\n",
    "students= [ {'Name':'Tom', 'GPA':3.4 }, {'Name':'Dick', 'GPA':3.0 }, {'Name':'Harry', 'GPA':4.0 }]\n",
    "\n",
    "Then quiz the class\n",
    "\n",
    "Students[0]\n",
    "Students[1][‘GPA’]\n",
    "\n",
    "\n",
    "Gpas as a list \n",
    "[ s['GPA'] for s in students]\n",
    "\n",
    "Chancellors list students:\n",
    " [ s['Name'] for s in students if s['GPA'] > 3.8 ]"
   ]
  },
  {
   "cell_type": "markdown",
   "metadata": {
    "slideshow": {
     "slide_type": "slide"
    }
   },
   "source": [
    "# Activity\n",
    "- Implement matrix multiplication:\n",
    " 1. Create a function that takes two lists of rows representing a matrix each\n",
    " 2. Return a list of rows that represents the multiplication of both\n",
    "- Implement triplet matrix representation:  \n",
    "\n",
    "$\\;\\;\\quad \\textbf A = \\begin{bmatrix} 0&2&0\\\\ 3&0&0\\\\ \\end{bmatrix} \\; \\Longrightarrow$\n",
    "```python\n",
    "A = [{'i': 1, 'j': 2, 'v': 2}, {'i': 2, 'j': 1, 'v': 3}]\n",
    "```\n",
    "- Implement matrix multiplication when representation is in triplets\n"
   ]
  },
  {
   "cell_type": "markdown",
   "metadata": {
    "slideshow": {
     "slide_type": "slide"
    }
   },
   "source": [
    "# Values and references\n",
    "- Some types are held “by value” in a variable\n",
    "```python\n",
    "x = 2\n",
    "y = x\n",
    "y = 2\n",
    "x?\n",
    "```\n",
    "- Other types are held “by reference” in a variable\n",
    "```python\n",
    "x = [1, 2]\n",
    "y = x\n",
    "y[0] = -1\n",
    "x?\n",
    "```\n",
    "- All but the simplest types are held by reference"
   ]
  },
  {
   "cell_type": "markdown",
   "metadata": {
    "slideshow": {
     "slide_type": "slide"
    }
   },
   "source": [
    "# Python syntax is really expressive\n",
    "Try:\n",
    "```python\n",
    "a, b = (2, 3)\n",
    "1 < 3 < 5\n",
    "```"
   ]
  },
  {
   "cell_type": "markdown",
   "metadata": {},
   "source": [
    "# Advanced topics"
   ]
  },
  {
   "cell_type": "markdown",
   "metadata": {
    "slideshow": {
     "slide_type": "slide"
    }
   },
   "source": [
    "# Functions (1)\n",
    "- It is easy to define functions:\n",
    "```python\n",
    "def f():\n",
    "    return 5\n",
    "```\n",
    "- Functions have their own type\n",
    "```python\n",
    "type(f)?\n",
    "```\n",
    "- You can access hidden parameters of a function object: `f.__`\n",
    "- You can define the help of a function (called a “doc”) by putting a triple double quote box just below a function\n",
    "- Try to run `?f` after the doc definition"
   ]
  },
  {
   "cell_type": "markdown",
   "metadata": {
    "slideshow": {
     "slide_type": "slide"
    }
   },
   "source": [
    "# Functions (2)\n",
    "- You can have several types of arguments:\n",
    "```python\n",
    "def f(a, b=0, c=3):\n",
    "    return (a + b)*c\n",
    "```\n",
    "- These all work:\n",
    "```python\n",
    "f(1), f(1, 2), f(1,c=5), f(1, 2, 3), f(1, c=3, b=2)\n",
    "```\n",
    "But this doesn’t work\n",
    "```python\n",
    "f(1, b=3, 3)\n",
    "```"
   ]
  },
  {
   "cell_type": "markdown",
   "metadata": {
    "slideshow": {
     "slide_type": "slide"
    }
   },
   "source": [
    "# Functions (3)\n",
    "- Be careful with mutable default arguments:\n",
    "\n",
    "```python\n",
    "def f(x=[]):\n",
    "    x.append(1)\n",
    "    return x\n",
    "\n",
    "f()\n",
    "[1]\n",
    "f()\n",
    "??\n",
    "``` \n",
    "- How to fix it?"
   ]
  },
  {
   "cell_type": "markdown",
   "metadata": {
    "slideshow": {
     "slide_type": "slide"
    }
   },
   "source": [
    "# Functions (4)\n",
    "```python\n",
    "def f(x=None):\n",
    "    if x is None:\n",
    "        x = []\n",
    "    x.append(1)\n",
    "    return x\n",
    "\n",
    "f()\n",
    "[1]\n",
    "f()\n",
    "??\n",
    "```"
   ]
  },
  {
   "cell_type": "markdown",
   "metadata": {
    "slideshow": {
     "slide_type": "slide"
    }
   },
   "source": [
    "# Functions (5)\n",
    "- Pass arguments using a function\n",
    "```python\n",
    "def f(a, b=2, c=3):\n",
    "    return [a, b, c]\n",
    "```\n",
    "```python\n",
    "f(3, 2, 1)\n",
    "??\n",
    "f([3, 2, 1])\n",
    "??\n",
    "f(*[3, 2, 1])\n",
    "??\n",
    "f(*[3], **{'c': 1, 'b': 2})\n",
    "??\n",
    "```"
   ]
  },
  {
   "cell_type": "markdown",
   "metadata": {
    "slideshow": {
     "slide_type": "slide"
    }
   },
   "source": [
    "# Passing functions as arguments\n",
    "```python\n",
    "def map(f, L):\n",
    "    return [f(e) for e in L]\n",
    "```\n",
    "- Function generator:\n",
    "\n",
    "```python \n",
    "def n_successor(n=1):\n",
    "    def f(x):\n",
    "        return x + n\n",
    "    return f\n",
    "\n",
    "successor = n_successor()\n",
    "successor10 = n_successor(10)\n",
    "```"
   ]
  },
  {
   "cell_type": "markdown",
   "metadata": {
    "slideshow": {
     "slide_type": "slide"
    }
   },
   "source": [
    "# Anonymous functions\n",
    "- \n",
    "```python\n",
    "(lambda x: x + 1)(2)\n",
    "```\n",
    "- \n",
    "```python\n",
    "f  = lambda x: x + 1\n",
    "f(2)\n",
    "```\n",
    "- \n",
    "```python\n",
    "g = lambda a, b: a + b\n",
    "g(1, 2)\n",
    "```"
   ]
  },
  {
   "cell_type": "markdown",
   "metadata": {
    "slideshow": {
     "slide_type": "slide"
    }
   },
   "source": [
    "# Docstrings\n",
    "- Each object can have a “help” text attached\n",
    "\n",
    "```python\n",
    "def f():\n",
    "    \"\"\"This function returns 0\"\"\"\n",
    "    return 0\n",
    "\n",
    "?f\n",
    "?f.__doc__\n",
    "```"
   ]
  },
  {
   "cell_type": "markdown",
   "metadata": {
    "slideshow": {
     "slide_type": "slide"
    }
   },
   "source": [
    "# Formatting strings and other tricks\n",
    "- a, b = 1, 2\n",
    "```python \n",
    "print(\"The value of a is {a} and b is {b}\".format(b=b, a=a))\n",
    "```\n",
    "- You can express conditions with more complicated format:\n",
    "```python\n",
    "True if a == 1 else False\n",
    "```\n",
    "- Create index for elements of a list\n",
    "```python\n",
    "[[index, value] for index, value in enumerate([1, 2, 3, 4])]\n",
    "```"
   ]
  },
  {
   "cell_type": "markdown",
   "metadata": {
    "slideshow": {
     "slide_type": "slide"
    }
   },
   "source": [
    "# Exceptions \n",
    "```python\n",
    "try:\n",
    "    1/0\n",
    "except ZeroDivisionError as e:\n",
    "    print(\"Catched zero division\", e)\n",
    "except:\n",
    "    print(\"Catch all other exceptions\")\n",
    "else:\n",
    "    print(\"This is executed if everything goes perfectly\")\n",
    "finally:\n",
    "    print(\"This is executed no matter what\")\n",
    "```"
   ]
  },
  {
   "cell_type": "markdown",
   "metadata": {
    "slideshow": {
     "slide_type": "slide"
    }
   },
   "source": [
    "# Generator\n",
    "- One of the great features in Python  \n",
    "\n",
    "```python\n",
    "def range_custom(n):\n",
    "    i = 0\n",
    "    while i < n:\n",
    "        yield i\n",
    "        i += 1\n",
    "```\n",
    "```python\n",
    "range_custom(3)\n",
    "next(range_custom(3))\n",
    "next(range_custom(3))\n",
    "a = range_custom(3)\n",
    "next(a)\n",
    "next(a)\n",
    "```"
   ]
  },
  {
   "cell_type": "markdown",
   "metadata": {
    "slideshow": {
     "slide_type": "slide"
    }
   },
   "source": [
    "# Classes and objects\n",
    "- Much of Python functionality is provided by classes\n",
    "- Classes define a “template” which will be followed by all objects created from that class\n",
    "- For example\n",
    "```python\n",
    "import pandas as pd\n",
    "df = pd.DataFrame()\n",
    "```\n",
    "- This will create an object of class `DataFrame`\n",
    "- The class `DataFrame` “inherits” from class `NDFrame`. So it specializes what `NDFrame` does\n",
    "- You can access all parent classes through `DataFrame.__bases__`"
   ]
  },
  {
   "cell_type": "markdown",
   "metadata": {
    "slideshow": {
     "slide_type": "slide"
    }
   },
   "source": [
    "# Let's create a Class\n",
    "```python\n",
    "class BankAccount():\n",
    "    def __init__(self):\n",
    "        self.balance = 0\n",
    "\n",
    "    def deposit(self, amount):\n",
    "        self.balance += amount\n",
    "```    \n",
    "- Create an object from `BankAccount()`\n",
    "- Objects are accessed “by reference”"
   ]
  },
  {
   "cell_type": "markdown",
   "metadata": {
    "slideshow": {
     "slide_type": "slide"
    }
   },
   "source": [
    "# Control flow\n",
    "- \n",
    "```python\n",
    "if condition:\n",
    "    pass\n",
    "elif another_condition:\n",
    "    pass\n",
    "else:\n",
    "    pass\n",
    "```\n",
    "- \n",
    "```python\n",
    "while condition:\n",
    "    pass\n",
    "```"
   ]
  },
  {
   "cell_type": "markdown",
   "metadata": {
    "slideshow": {
     "slide_type": "slide"
    }
   },
   "source": [
    "# Implement a withdraw method in the BankAccount method \n",
    "```python\n",
    "class BankAccount():\n",
    "    def __init__(self):\n",
    "        self.balance = 0\n",
    "\n",
    "    def deposit(self, amount):\n",
    "        self.balance += amount\n",
    "\n",
    "    def withdraw(self, amount):\n",
    "        # your code here\n",
    "```\n",
    "\n",
    "- Add some comments to your code\n"
   ]
  },
  {
   "cell_type": "markdown",
   "metadata": {
    "slideshow": {
     "slide_type": "slide"
    }
   },
   "source": [
    "# Implement a function that merges two accounts \n",
    "```python \n",
    "def merge_accounts(a1, a2):\n",
    "    pass\n",
    "```\n",
    "- Add the `BankAccount` class definition and the merge definition into a file\n",
    "- In IPython, make sure you are in the same directory as the file\n",
    "- Import the module\n",
    "```python\n",
    "import module_name\n",
    "```\n",
    "- Now you can use the class and function inside!\n",
    "```python \n",
    "module_name.BankAccount()\n",
    "```"
   ]
  },
  {
   "cell_type": "markdown",
   "metadata": {
    "slideshow": {
     "slide_type": "slide"
    }
   },
   "source": [
    "# Creating a package\n",
    "1. Now create a folder with the name of package you want to create (e.g., banking)\n",
    "2. Add `BankAccount` class definition to a file called `objects.py` inside that folder\n",
    "3. Add `merge_account` function to a file called `operations.py`\n",
    "4. In a file called `__init__.py` in that folder, import all the functionality of those two files\n",
    "```python\n",
    "from .objects import *\n",
    "from .operations import *\n",
    "```\n",
    "5. Now you can import banking and start using the objects and functions with a much better organization of the content!"
   ]
  },
  {
   "cell_type": "markdown",
   "metadata": {
    "slideshow": {
     "slide_type": "slide"
    }
   },
   "source": [
    "# Create a string representation of an object\n",
    "- Create a method called `__repr__` and return a string description of the object.\n",
    "- For example:\n",
    "```python\n",
    "def __repr__(self):\n",
    "    return \"Bank account with a balance of \" \\\n",
    "        + str(self.balance)\n",
    "```"
   ]
  },
  {
   "cell_type": "markdown",
   "metadata": {
    "slideshow": {
     "slide_type": "slide"
    }
   },
   "source": [
    "# Other resources\n",
    "- Programming Foundations: Fundamentals  \n",
    "https://www.lynda.com/Programming-Foundations-tutorials/Welcome/83603/90426-4.html\n",
    "- Learning Python  \n",
    "https://www.lynda.com/Python-tutorials/Up-Running-Python/122467-2.html\n",
    "- You should definitevely learn Github and Git:  \n",
    "https://www.lynda.com/Git-tutorials/Up-Running-Git-GitHub/409275-2.html"
   ]
  }
 ],
 "metadata": {
  "celltoolbar": "Slideshow",
  "kernelspec": {
   "display_name": "Python 3",
   "language": "python",
   "name": "python3"
  },
  "language_info": {
   "codemirror_mode": {
    "name": "ipython",
    "version": 3
   },
   "file_extension": ".py",
   "mimetype": "text/x-python",
   "name": "python",
   "nbconvert_exporter": "python",
   "pygments_lexer": "ipython3",
   "version": "3.8.8"
  },
  "latex_envs": {
   "LaTeX_envs_menu_present": true,
   "autoclose": false,
   "autocomplete": true,
   "bibliofile": "biblio.bib",
   "cite_by": "apalike",
   "current_citInitial": 1,
   "eqLabelWithNumbers": true,
   "eqNumInitial": 1,
   "hotkeys": {
    "equation": "Ctrl-E",
    "itemize": "Ctrl-I"
   },
   "labels_anchors": false,
   "latex_user_defs": false,
   "report_style_numbering": false,
   "user_envs_cfg": false
  },
  "toc": {
   "base_numbering": 1,
   "nav_menu": {},
   "number_sections": false,
   "sideBar": true,
   "skip_h1_title": false,
   "title_cell": "Table of Contents",
   "title_sidebar": "Contents",
   "toc_cell": false,
   "toc_position": {},
   "toc_section_display": true,
   "toc_window_display": false
  }
 },
 "nbformat": 4,
 "nbformat_minor": 2
}
