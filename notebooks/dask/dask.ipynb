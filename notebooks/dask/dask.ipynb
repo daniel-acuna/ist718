{
 "cells": [
  {
   "cell_type": "markdown",
   "metadata": {},
   "source": [
    "# Dask  \n",
    "Looking just like Numpy and Pandas, Dask provides scalability, which means with Dask, you can parallelize your code so it runs faster when working with large datasets. "
   ]
  },
  {
   "cell_type": "markdown",
   "metadata": {},
   "source": [
    "Here we import the Dask version of Numpy array (dask.array) and the Dask version of Pandas dataframe (dask.dataframe) "
   ]
  },
  {
   "cell_type": "code",
   "execution_count": null,
   "metadata": {
    "id": "9EEZXDo5zTDB"
   },
   "outputs": [],
   "source": [
    "import dask.array as da\n",
    "import dask.dataframe as dd"
   ]
  },
  {
   "cell_type": "code",
   "execution_count": null,
   "metadata": {
    "id": "jZqvRRgFxVWT"
   },
   "outputs": [],
   "source": [
    "import numpy as np\n",
    "import pandas as pd"
   ]
  },
  {
   "cell_type": "code",
   "execution_count": null,
   "metadata": {
    "id": "xHeYrvMWywow"
   },
   "outputs": [],
   "source": [
    "x = da.random.normal(0, 0.1, (100, 5))"
   ]
  },
  {
   "cell_type": "markdown",
   "metadata": {},
   "source": [
    "In Dask, how a chunk of data is stored and represented in the system is well visualized."
   ]
  },
  {
   "cell_type": "code",
   "execution_count": null,
   "metadata": {
    "colab": {
     "base_uri": "https://localhost:8080/",
     "height": 197
    },
    "executionInfo": {
     "elapsed": 347,
     "status": "ok",
     "timestamp": 1613462244610,
     "user": {
      "displayName": "Lizhen Liang",
      "photoUrl": "",
      "userId": "04322624646038374603"
     },
     "user_tz": 300
    },
    "id": "H6WavGSH04BV",
    "outputId": "d6178b70-bafa-4991-834c-1f390c88c555"
   },
   "outputs": [],
   "source": [
    "x"
   ]
  },
  {
   "cell_type": "markdown",
   "metadata": {},
   "source": [
    "You can use the typical type function to check the type of a Dask array"
   ]
  },
  {
   "cell_type": "code",
   "execution_count": null,
   "metadata": {
    "colab": {
     "base_uri": "https://localhost:8080/"
    },
    "executionInfo": {
     "elapsed": 342,
     "status": "ok",
     "timestamp": 1613462248087,
     "user": {
      "displayName": "Lizhen Liang",
      "photoUrl": "",
      "userId": "04322624646038374603"
     },
     "user_tz": 300
    },
    "id": "wVu53Ah70ww2",
    "outputId": "32065f1f-2aeb-4ff9-f1a5-02e3287d946b"
   },
   "outputs": [],
   "source": [
    "type(x)"
   ]
  },
  {
   "cell_type": "markdown",
   "metadata": {},
   "source": [
    "We can use functionalities from dask.dataframe to transform a dask array to a dask dataframe "
   ]
  },
  {
   "cell_type": "code",
   "execution_count": null,
   "metadata": {
    "colab": {
     "base_uri": "https://localhost:8080/",
     "height": 176
    },
    "executionInfo": {
     "elapsed": 360,
     "status": "ok",
     "timestamp": 1613462250595,
     "user": {
      "displayName": "Lizhen Liang",
      "photoUrl": "",
      "userId": "04322624646038374603"
     },
     "user_tz": 300
    },
    "id": "kH_TN2Q2yo0i",
    "outputId": "e385bd40-d1af-4e0c-ea3e-1f33da5ac307"
   },
   "outputs": [],
   "source": [
    "x_dd = dd.io.from_dask_array(x)\n",
    "x_dd"
   ]
  },
  {
   "cell_type": "markdown",
   "metadata": {},
   "source": [
    "You can also create dask dataframe from Pandas Series"
   ]
  },
  {
   "cell_type": "code",
   "execution_count": null,
   "metadata": {
    "id": "QBoHReopzy_N"
   },
   "outputs": [],
   "source": [
    "x_s = pd.Series([1, 2, 3, 4])\n",
    "y_s = pd.Series([-1, -2, -3, -4])"
   ]
  },
  {
   "cell_type": "markdown",
   "metadata": {},
   "source": [
    "In order to initialize a dask dataframe, you need to specify npartitions: which is the number of parts your dask dataframe is seperated and distributed."
   ]
  },
  {
   "cell_type": "code",
   "execution_count": null,
   "metadata": {
    "id": "DWfQF-VXzy2v"
   },
   "outputs": [],
   "source": [
    "dd_XY = dd.from_pandas(pd.DataFrame({'x': x_s, 'y': y_s}), npartitions = 10)"
   ]
  },
  {
   "cell_type": "code",
   "execution_count": null,
   "metadata": {
    "colab": {
     "base_uri": "https://localhost:8080/",
     "height": 76
    },
    "executionInfo": {
     "elapsed": 438,
     "status": "ok",
     "timestamp": 1613462745747,
     "user": {
      "displayName": "Lizhen Liang",
      "photoUrl": "",
      "userId": "04322624646038374603"
     },
     "user_tz": 300
    },
    "id": "nofRVVuozxzG",
    "outputId": "0b929526-5076-409a-ebbd-0e7571658c08"
   },
   "outputs": [],
   "source": [
    "dd_XY.visualize()"
   ]
  },
  {
   "cell_type": "markdown",
   "metadata": {},
   "source": [
    "Dask also follows \"lazy evaluation\": the actual operation are computed only after you have called the compute method. "
   ]
  },
  {
   "cell_type": "code",
   "execution_count": null,
   "metadata": {
    "colab": {
     "base_uri": "https://localhost:8080/",
     "height": 173
    },
    "executionInfo": {
     "elapsed": 237,
     "status": "ok",
     "timestamp": 1613462768774,
     "user": {
      "displayName": "Lizhen Liang",
      "photoUrl": "",
      "userId": "04322624646038374603"
     },
     "user_tz": 300
    },
    "id": "mvoS4Jii36TI",
    "outputId": "5463d78f-8efd-45cb-a314-fece85fd93f6"
   },
   "outputs": [],
   "source": [
    "dd_XY.compute()"
   ]
  },
  {
   "cell_type": "markdown",
   "metadata": {},
   "source": [
    "Otherwise, the operation of dask dataframe are quite similiar when compared with Pandas dataframe"
   ]
  },
  {
   "cell_type": "code",
   "execution_count": null,
   "metadata": {
    "colab": {
     "base_uri": "https://localhost:8080/"
    },
    "executionInfo": {
     "elapsed": 461,
     "status": "ok",
     "timestamp": 1613462786166,
     "user": {
      "displayName": "Lizhen Liang",
      "photoUrl": "",
      "userId": "04322624646038374603"
     },
     "user_tz": 300
    },
    "id": "aeIsB8CZ3_1c",
    "outputId": "8d2bdd12-4ab3-4e96-9142-833ceab77a43"
   },
   "outputs": [],
   "source": [
    "dd_XY['x'].compute()"
   ]
  },
  {
   "cell_type": "code",
   "execution_count": null,
   "metadata": {
    "colab": {
     "base_uri": "https://localhost:8080/"
    },
    "executionInfo": {
     "elapsed": 412,
     "status": "ok",
     "timestamp": 1613462793209,
     "user": {
      "displayName": "Lizhen Liang",
      "photoUrl": "",
      "userId": "04322624646038374603"
     },
     "user_tz": 300
    },
    "id": "FULs4Cgs4E58",
    "outputId": "9b638be0-1479-4422-88e4-4363b256089d"
   },
   "outputs": [],
   "source": [
    "dd_XY['y'].compute()"
   ]
  },
  {
   "cell_type": "code",
   "execution_count": null,
   "metadata": {
    "colab": {
     "base_uri": "https://localhost:8080/",
     "height": 173
    },
    "executionInfo": {
     "elapsed": 389,
     "status": "ok",
     "timestamp": 1613462815139,
     "user": {
      "displayName": "Lizhen Liang",
      "photoUrl": "",
      "userId": "04322624646038374603"
     },
     "user_tz": 300
    },
    "id": "PbCJKo5j4HY6",
    "outputId": "9968a6de-44c5-441a-fa51-b0c0ff9b42b9"
   },
   "outputs": [],
   "source": [
    "dd_XY[['x', 'y']].compute()"
   ]
  },
  {
   "cell_type": "code",
   "execution_count": null,
   "metadata": {
    "colab": {
     "base_uri": "https://localhost:8080/",
     "height": 173
    },
    "executionInfo": {
     "elapsed": 345,
     "status": "ok",
     "timestamp": 1613462830274,
     "user": {
      "displayName": "Lizhen Liang",
      "photoUrl": "",
      "userId": "04322624646038374603"
     },
     "user_tz": 300
    },
    "id": "YNRX8D5u4MkY",
    "outputId": "ff43fc0e-a146-44d4-fd05-4897013060a6"
   },
   "outputs": [],
   "source": [
    "2*dd_XY.compute()"
   ]
  },
  {
   "cell_type": "code",
   "execution_count": null,
   "metadata": {
    "colab": {
     "base_uri": "https://localhost:8080/",
     "height": 111
    },
    "executionInfo": {
     "elapsed": 339,
     "status": "ok",
     "timestamp": 1613462850300,
     "user": {
      "displayName": "Lizhen Liang",
      "photoUrl": "",
      "userId": "04322624646038374603"
     },
     "user_tz": 300
    },
    "id": "CvslqWd94Mbf",
    "outputId": "fbad606c-53ff-4d01-bae0-0269afc9a4da"
   },
   "outputs": [],
   "source": [
    "dd_XY.compute().T"
   ]
  },
  {
   "cell_type": "markdown",
   "metadata": {},
   "source": [
    "You can also create a dask dataframe from a Pandas dataframe"
   ]
  },
  {
   "cell_type": "code",
   "execution_count": null,
   "metadata": {
    "id": "MtLWD6TH4HNQ"
   },
   "outputs": [],
   "source": [
    "df2 = pd.DataFrame({ 'A' : 1.,\n",
    "'B' : pd.Timestamp('20130102'),\n",
    "'C' : pd.Series(1,index=list(range(4)),dtype='float32'),\n",
    "'D' : np.array([3] * 4,dtype='int32'),\n",
    "'E' : pd.Categorical([\"test\",\"train\",\"test\",\"train\"]),\n",
    "'F' : 'foo' })"
   ]
  },
  {
   "cell_type": "code",
   "execution_count": null,
   "metadata": {
    "id": "JsG0Kxf44G9r"
   },
   "outputs": [],
   "source": [
    "dd_df2 = dd.from_pandas(df2, npartitions = 20)"
   ]
  },
  {
   "cell_type": "code",
   "execution_count": null,
   "metadata": {
    "colab": {
     "base_uri": "https://localhost:8080/"
    },
    "executionInfo": {
     "elapsed": 336,
     "status": "ok",
     "timestamp": 1613462922570,
     "user": {
      "displayName": "Lizhen Liang",
      "photoUrl": "",
      "userId": "04322624646038374603"
     },
     "user_tz": 300
    },
    "id": "zMzvWbGC4c_t",
    "outputId": "6c064796-e19a-4367-fd36-7e388b9ce9f2"
   },
   "outputs": [],
   "source": [
    "dd_df2.dtypes"
   ]
  },
  {
   "cell_type": "code",
   "execution_count": null,
   "metadata": {
    "colab": {
     "base_uri": "https://localhost:8080/",
     "height": 173
    },
    "executionInfo": {
     "elapsed": 330,
     "status": "ok",
     "timestamp": 1613462908324,
     "user": {
      "displayName": "Lizhen Liang",
      "photoUrl": "",
      "userId": "04322624646038374603"
     },
     "user_tz": 300
    },
    "id": "h38VuoP14Gov",
    "outputId": "d9cc315b-8773-44e8-adca-d97f860549a3"
   },
   "outputs": [],
   "source": [
    "dd_df2.compute()"
   ]
  },
  {
   "cell_type": "code",
   "execution_count": null,
   "metadata": {
    "colab": {
     "base_uri": "https://localhost:8080/"
    },
    "executionInfo": {
     "elapsed": 353,
     "status": "ok",
     "timestamp": 1613462946692,
     "user": {
      "displayName": "Lizhen Liang",
      "photoUrl": "",
      "userId": "04322624646038374603"
     },
     "user_tz": 300
    },
    "id": "N-cm-p984iwo",
    "outputId": "c399196e-9f17-4acc-ff24-9f11a4b86870"
   },
   "outputs": [],
   "source": [
    "dd_df2.index.compute()"
   ]
  },
  {
   "cell_type": "code",
   "execution_count": null,
   "metadata": {
    "colab": {
     "base_uri": "https://localhost:8080/"
    },
    "executionInfo": {
     "elapsed": 535,
     "status": "ok",
     "timestamp": 1613462958362,
     "user": {
      "displayName": "Lizhen Liang",
      "photoUrl": "",
      "userId": "04322624646038374603"
     },
     "user_tz": 300
    },
    "id": "irUyti6Y4pYb",
    "outputId": "e3ed8a07-b92f-4cdb-bfca-3d2b63ea5121"
   },
   "outputs": [],
   "source": [
    "dd_df2.values.compute()"
   ]
  },
  {
   "cell_type": "code",
   "execution_count": null,
   "metadata": {
    "id": "h_-W9W7L4u7T"
   },
   "outputs": [],
   "source": [
    "index = pd.date_range('1/1/2000', periods=8)\n",
    "s = pd.Series(np.random.randn(5), index=['a', 'b', 'c', 'd', 'e'])\n",
    "df = pd.DataFrame(np.random.randn(8, 3), index=index,\n",
    "  columns=['A', 'B', 'C'])\n",
    "dd_df = dd.from_pandas(df, npartitions = 10)"
   ]
  },
  {
   "cell_type": "code",
   "execution_count": null,
   "metadata": {
    "colab": {
     "base_uri": "https://localhost:8080/",
     "height": 176
    },
    "executionInfo": {
     "elapsed": 427,
     "status": "ok",
     "timestamp": 1613463029071,
     "user": {
      "displayName": "Lizhen Liang",
      "photoUrl": "",
      "userId": "04322624646038374603"
     },
     "user_tz": 300
    },
    "id": "E7VEVs8E449p",
    "outputId": "3c9da3b4-a5c4-4c80-a4b1-79efbe84d5a7"
   },
   "outputs": [],
   "source": [
    "dd_df.loc['2000-01-02']"
   ]
  },
  {
   "cell_type": "code",
   "execution_count": null,
   "metadata": {
    "colab": {
     "base_uri": "https://localhost:8080/",
     "height": 80
    },
    "executionInfo": {
     "elapsed": 280,
     "status": "ok",
     "timestamp": 1613463038626,
     "user": {
      "displayName": "Lizhen Liang",
      "photoUrl": "",
      "userId": "04322624646038374603"
     },
     "user_tz": 300
    },
    "id": "WV7ETiQP49IM",
    "outputId": "94b683d8-9fbf-4d47-a722-da5782ba58fc"
   },
   "outputs": [],
   "source": [
    "dd_df.loc['2000-01-02'].compute()"
   ]
  },
  {
   "cell_type": "code",
   "execution_count": null,
   "metadata": {
    "colab": {
     "base_uri": "https://localhost:8080/",
     "height": 269
    },
    "executionInfo": {
     "elapsed": 365,
     "status": "ok",
     "timestamp": 1613463051043,
     "user": {
      "displayName": "Lizhen Liang",
      "photoUrl": "",
      "userId": "04322624646038374603"
     },
     "user_tz": 300
    },
    "id": "TDgbHRa64_Sc",
    "outputId": "07fae531-cf40-49da-86a5-bcacbcf26ec8"
   },
   "outputs": [],
   "source": [
    "dd_df.loc[:, ['A', 'B']]"
   ]
  },
  {
   "cell_type": "code",
   "execution_count": null,
   "metadata": {
    "colab": {
     "base_uri": "https://localhost:8080/",
     "height": 297
    },
    "executionInfo": {
     "elapsed": 373,
     "status": "ok",
     "timestamp": 1613463061853,
     "user": {
      "displayName": "Lizhen Liang",
      "photoUrl": "",
      "userId": "04322624646038374603"
     },
     "user_tz": 300
    },
    "id": "9_3T1YHD5FmA",
    "outputId": "111afa10-080e-4eb9-bf49-337fa57200a6"
   },
   "outputs": [],
   "source": [
    "dd_df.loc[:, ['A', 'B']].compute()"
   ]
  },
  {
   "cell_type": "code",
   "execution_count": null,
   "metadata": {
    "colab": {
     "base_uri": "https://localhost:8080/"
    },
    "executionInfo": {
     "elapsed": 371,
     "status": "ok",
     "timestamp": 1613463194661,
     "user": {
      "displayName": "Lizhen Liang",
      "photoUrl": "",
      "userId": "04322624646038374603"
     },
     "user_tz": 300
    },
    "id": "kPQs3a6r5Lio",
    "outputId": "cf14230d-a331-4aeb-b44f-7be570b963a4"
   },
   "outputs": [],
   "source": [
    "dd_df['A'].mean().compute()"
   ]
  },
  {
   "cell_type": "code",
   "execution_count": null,
   "metadata": {
    "id": "3SLvYYq35Rr1"
   },
   "outputs": [],
   "source": [
    "df3 = pd.DataFrame(np.random.randn(8, 4))\n",
    "dd_df3 = dd.from_pandas(df3, npartitions = 10)"
   ]
  },
  {
   "cell_type": "code",
   "execution_count": null,
   "metadata": {
    "colab": {
     "base_uri": "https://localhost:8080/",
     "height": 421
    },
    "executionInfo": {
     "elapsed": 444,
     "status": "ok",
     "timestamp": 1613463505880,
     "user": {
      "displayName": "Lizhen Liang",
      "photoUrl": "",
      "userId": "04322624646038374603"
     },
     "user_tz": 300
    },
    "id": "T0387svi53L7",
    "outputId": "e906bc4a-72ff-4a72-ad14-8853d4795b5a"
   },
   "outputs": [],
   "source": [
    "dd_df3.append(dd_df2).compute()"
   ]
  },
  {
   "cell_type": "code",
   "execution_count": null,
   "metadata": {
    "id": "ZO6uVMe_6f0c"
   },
   "outputs": [],
   "source": [
    "left = pd.DataFrame({'key': ['foo', 'foo'], 'lval': [1, 2]})\n",
    "right = pd.DataFrame({'key': ['foo', 'foo'], 'rval': [4, 5]})\n",
    "\n",
    "dd_left = dd.from_pandas(left, npartitions=3)\n",
    "dd_right = dd.from_pandas(right, npartitions=3)"
   ]
  },
  {
   "cell_type": "code",
   "execution_count": null,
   "metadata": {
    "colab": {
     "base_uri": "https://localhost:8080/",
     "height": 173
    },
    "executionInfo": {
     "elapsed": 333,
     "status": "ok",
     "timestamp": 1613463576852,
     "user": {
      "displayName": "Lizhen Liang",
      "photoUrl": "",
      "userId": "04322624646038374603"
     },
     "user_tz": 300
    },
    "id": "vqqklADA7AXI",
    "outputId": "a7099df8-a6c0-4df3-a9e3-e4bd49a83bb4"
   },
   "outputs": [],
   "source": [
    "dd.merge(left, right, on = 'key')"
   ]
  },
  {
   "cell_type": "code",
   "execution_count": null,
   "metadata": {
    "id": "1NeKXvsx7F5R"
   },
   "outputs": [],
   "source": [
    "df = pd.DataFrame({'A' : ['foo', 'bar', 'foo', 'bar',\n",
    "'foo', 'bar', 'foo', 'foo'],\n",
    "'B' : ['one', 'one', 'two', 'three',\n",
    "'two', 'two', 'one', 'three'],\n",
    "'C' : np.random.randn(8),\n",
    "'D' : np.random.randn(8)})\n",
    "dd_df = dd.from_pandas(df, npartitions=3)"
   ]
  },
  {
   "cell_type": "code",
   "execution_count": null,
   "metadata": {
    "colab": {
     "base_uri": "https://localhost:8080/",
     "height": 142
    },
    "executionInfo": {
     "elapsed": 315,
     "status": "ok",
     "timestamp": 1613463618953,
     "user": {
      "displayName": "Lizhen Liang",
      "photoUrl": "",
      "userId": "04322624646038374603"
     },
     "user_tz": 300
    },
    "id": "YV7G2P967KY_",
    "outputId": "96fad872-20c9-47d2-aabf-e7425aed398c"
   },
   "outputs": [],
   "source": [
    "dd_df.groupby('A').sum().compute()"
   ]
  },
  {
   "cell_type": "code",
   "execution_count": null,
   "metadata": {
    "colab": {
     "base_uri": "https://localhost:8080/",
     "height": 266
    },
    "executionInfo": {
     "elapsed": 348,
     "status": "ok",
     "timestamp": 1613463634379,
     "user": {
      "displayName": "Lizhen Liang",
      "photoUrl": "",
      "userId": "04322624646038374603"
     },
     "user_tz": 300
    },
    "id": "NQuD3Fd57O5s",
    "outputId": "bc29465a-fc99-43bb-921c-3906903cfeda"
   },
   "outputs": [],
   "source": [
    "dd_df.groupby(['A', 'B']).sum().compute()"
   ]
  },
  {
   "cell_type": "code",
   "execution_count": null,
   "metadata": {
    "id": "WyAtu36b7SZ_"
   },
   "outputs": [],
   "source": [
    "group = dd_df.groupby('A')"
   ]
  },
  {
   "cell_type": "code",
   "execution_count": null,
   "metadata": {
    "colab": {
     "base_uri": "https://localhost:8080/"
    },
    "executionInfo": {
     "elapsed": 370,
     "status": "ok",
     "timestamp": 1613463656551,
     "user": {
      "displayName": "Lizhen Liang",
      "photoUrl": "",
      "userId": "04322624646038374603"
     },
     "user_tz": 300
    },
    "id": "FV7tffmk7XLN",
    "outputId": "eac4d4fb-da25-4c73-b90c-1b3470d11cdb"
   },
   "outputs": [],
   "source": [
    "group"
   ]
  },
  {
   "cell_type": "code",
   "execution_count": null,
   "metadata": {
    "id": "_lX-4Fet7Zaw"
   },
   "outputs": [],
   "source": [
    "def top1(g):\n",
    "  # simply return top row for each group\n",
    "  return g.iloc[[0]]"
   ]
  },
  {
   "cell_type": "code",
   "execution_count": null,
   "metadata": {
    "colab": {
     "base_uri": "https://localhost:8080/",
     "height": 247
    },
    "executionInfo": {
     "elapsed": 336,
     "status": "ok",
     "timestamp": 1613463691426,
     "user": {
      "displayName": "Lizhen Liang",
      "photoUrl": "",
      "userId": "04322624646038374603"
     },
     "user_tz": 300
    },
    "id": "TzaLfCgn7bbE",
    "outputId": "6097952d-0f6b-463e-ce12-835ee2115528"
   },
   "outputs": [],
   "source": [
    "group.apply(top1).compute()"
   ]
  },
  {
   "cell_type": "markdown",
   "metadata": {},
   "source": [
    "We can visualize the parallelized computing process:"
   ]
  },
  {
   "cell_type": "code",
   "execution_count": null,
   "metadata": {
    "colab": {
     "base_uri": "https://localhost:8080/",
     "height": 1000
    },
    "executionInfo": {
     "elapsed": 963,
     "status": "ok",
     "timestamp": 1613463703096,
     "user": {
      "displayName": "Lizhen Liang",
      "photoUrl": "",
      "userId": "04322624646038374603"
     },
     "user_tz": 300
    },
    "id": "sppGYNV_7c_i",
    "outputId": "3a4971a5-f2b8-4d7a-a28d-5b159f896a32"
   },
   "outputs": [],
   "source": [
    "group.apply(top1).visualize()"
   ]
  }
 ],
 "metadata": {
  "colab": {
   "authorship_tag": "ABX9TyN2Quncwf1wLt0BsNzY5KW/",
   "collapsed_sections": [],
   "name": "dask.ipynb",
   "provenance": []
  },
  "kernelspec": {
   "display_name": "Python 3",
   "language": "python",
   "name": "python3"
  },
  "language_info": {
   "codemirror_mode": {
    "name": "ipython",
    "version": 3
   },
   "file_extension": ".py",
   "mimetype": "text/x-python",
   "name": "python",
   "nbconvert_exporter": "python",
   "pygments_lexer": "ipython3",
   "version": "3.8.6"
  }
 },
 "nbformat": 4,
 "nbformat_minor": 1
}
