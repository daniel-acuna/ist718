{
 "cells": [
  {
   "cell_type": "markdown",
   "metadata": {},
   "source": [
    "# Basic machine learning"
   ]
  },
  {
   "cell_type": "markdown",
   "metadata": {},
   "source": [
    "## Loading preliminary packages"
   ]
  },
  {
   "cell_type": "code",
   "execution_count": 1,
   "metadata": {},
   "outputs": [],
   "source": [
    "from pyspark.sql import SparkSession\n",
    "from pyspark.ml import feature, regression, evaluation, Pipeline\n",
    "from pyspark.sql import functions as fn, Row\n",
    "import matplotlib.pyplot as plt\n",
    "spark = SparkSession.builder.getOrCreate()\n",
    "sc = spark.sparkContext"
   ]
  },
  {
   "cell_type": "code",
   "execution_count": 2,
   "metadata": {},
   "outputs": [],
   "source": [
    "# Functionality for computing features\n",
    "from pyspark.ml import feature\n",
    "# Functionality for regression\n",
    "from pyspark.ml import regression\n",
    "# Funcionality for classification\n",
    "from pyspark.ml import classification\n",
    "# Object for creating sequences of transformations\n",
    "from pyspark.ml import Pipeline"
   ]
  },
  {
   "cell_type": "code",
   "execution_count": 3,
   "metadata": {},
   "outputs": [],
   "source": [
    "# we will use pandas to display the data nicely\n",
    "import pandas as pd\n",
    "datasource = pd.read_csv('http://www4.stat.ncsu.edu/~boos/var.select/diabetes.tab.txt', delimiter='\\t')\n",
    "datasource.columns = ['age', 'sex', 'bmi', 'map', 'tc', 'ldl', 'hdl', 'tch', 'ltg', 'glu', 'disease_progression']\n",
    "diabetes_df = spark.createDataFrame(datasource)"
   ]
  },
  {
   "cell_type": "code",
   "execution_count": 4,
   "metadata": {},
   "outputs": [
    {
     "name": "stdout",
     "output_type": "stream",
     "text": [
      "root\n",
      " |-- age: long (nullable = true)\n",
      " |-- sex: long (nullable = true)\n",
      " |-- bmi: double (nullable = true)\n",
      " |-- map: double (nullable = true)\n",
      " |-- tc: long (nullable = true)\n",
      " |-- ldl: double (nullable = true)\n",
      " |-- hdl: double (nullable = true)\n",
      " |-- tch: double (nullable = true)\n",
      " |-- ltg: double (nullable = true)\n",
      " |-- glu: long (nullable = true)\n",
      " |-- disease_progression: long (nullable = true)\n",
      "\n"
     ]
    }
   ],
   "source": [
    "diabetes_df.printSchema()"
   ]
  },
  {
   "cell_type": "markdown",
   "metadata": {},
   "source": [
    "Let's take a look at age and compute several statistics in the population:"
   ]
  },
  {
   "cell_type": "code",
   "execution_count": 5,
   "metadata": {},
   "outputs": [
    {
     "data": {
      "text/plain": [
       "DataFrame[count(1): bigint, avg(age): double, min(age): bigint, max(age): bigint, stddev_samp(age): double]"
      ]
     },
     "metadata": {},
     "output_type": "display_data"
    }
   ],
   "source": [
    "display(diabetes_df.select(fn.count('*'), fn.avg('age'), fn.min('age'), fn.max('age'), fn.stddev('age')))"
   ]
  },
  {
   "cell_type": "markdown",
   "metadata": {},
   "source": [
    "There are several functions in `functions` to compute other statistics. For example, we can compute the correlation between two variables:"
   ]
  },
  {
   "cell_type": "code",
   "execution_count": 7,
   "metadata": {},
   "outputs": [
    {
     "name": "stdout",
     "output_type": "stream",
     "text": [
      "+------------------------------+\n",
      "|corr(bmi, disease_progression)|\n",
      "+------------------------------+\n",
      "|            0.5864501344746886|\n",
      "+------------------------------+\n",
      "\n"
     ]
    }
   ],
   "source": [
    "diabetes_df.select(fn.corr('bmi', 'disease_progression')).show()"
   ]
  },
  {
   "cell_type": "markdown",
   "metadata": {},
   "source": [
    "It is sometimes useful to \"see\" such relationship in graph. This is very easily done with Pandas dataframes. In this class, we will not see Pandas funcionality more than for its plotting capabilitites. You can learn more about Pandas in the [official website](http://pandas.pydata.org/) or you can watch a [Lynda.com tutorial about it](https://www.lynda.com/Pandas-tutorials/Pandas-Data-Science-Essential-Training/518161-2.html)"
   ]
  },
  {
   "cell_type": "markdown",
   "metadata": {},
   "source": [
    "**You can collect any Spark dataframe into a Pandas dataframe by using the method `toPandas()`. However, you have to be very careful because this will collect all the information from the workers and push the data to the driver. If the driver does not have enough memory to hold a big dataset, then Spark might crash. So before running `toPandas()` make you that the Spark dataframe you are collecting is relatively small**"
   ]
  },
  {
   "cell_type": "markdown",
   "metadata": {},
   "source": [
    "To start, we can take a look at the distribution of things by using the `describe` method in a Spark dataframe and then collecting it into a Pandas dataframe:"
   ]
  },
  {
   "cell_type": "code",
   "execution_count": 9,
   "metadata": {},
   "outputs": [
    {
     "data": {
      "text/html": [
       "<div>\n",
       "<style scoped>\n",
       "    .dataframe tbody tr th:only-of-type {\n",
       "        vertical-align: middle;\n",
       "    }\n",
       "\n",
       "    .dataframe tbody tr th {\n",
       "        vertical-align: top;\n",
       "    }\n",
       "\n",
       "    .dataframe thead th {\n",
       "        text-align: right;\n",
       "    }\n",
       "</style>\n",
       "<table border=\"1\" class=\"dataframe\">\n",
       "  <thead>\n",
       "    <tr style=\"text-align: right;\">\n",
       "      <th></th>\n",
       "      <th>summary</th>\n",
       "      <th>age</th>\n",
       "      <th>sex</th>\n",
       "      <th>bmi</th>\n",
       "      <th>map</th>\n",
       "      <th>tc</th>\n",
       "      <th>ldl</th>\n",
       "      <th>hdl</th>\n",
       "      <th>tch</th>\n",
       "      <th>ltg</th>\n",
       "      <th>glu</th>\n",
       "      <th>disease_progression</th>\n",
       "    </tr>\n",
       "  </thead>\n",
       "  <tbody>\n",
       "    <tr>\n",
       "      <th>0</th>\n",
       "      <td>count</td>\n",
       "      <td>442</td>\n",
       "      <td>442</td>\n",
       "      <td>442</td>\n",
       "      <td>442</td>\n",
       "      <td>442</td>\n",
       "      <td>442</td>\n",
       "      <td>442</td>\n",
       "      <td>442</td>\n",
       "      <td>442</td>\n",
       "      <td>442</td>\n",
       "      <td>442</td>\n",
       "    </tr>\n",
       "    <tr>\n",
       "      <th>1</th>\n",
       "      <td>mean</td>\n",
       "      <td>48.51809954751131</td>\n",
       "      <td>1.4683257918552035</td>\n",
       "      <td>26.375791855203616</td>\n",
       "      <td>94.64701357466062</td>\n",
       "      <td>189.14027149321268</td>\n",
       "      <td>115.43914027149322</td>\n",
       "      <td>49.78846153846154</td>\n",
       "      <td>4.070248868778281</td>\n",
       "      <td>4.641410859728506</td>\n",
       "      <td>91.26018099547511</td>\n",
       "      <td>152.13348416289594</td>\n",
       "    </tr>\n",
       "    <tr>\n",
       "      <th>2</th>\n",
       "      <td>stddev</td>\n",
       "      <td>13.109027822041094</td>\n",
       "      <td>0.49956117043535436</td>\n",
       "      <td>4.418121560615773</td>\n",
       "      <td>13.831283419782999</td>\n",
       "      <td>34.60805167504306</td>\n",
       "      <td>30.413080969276546</td>\n",
       "      <td>12.934202154863327</td>\n",
       "      <td>1.2904498966082776</td>\n",
       "      <td>0.5223905610694908</td>\n",
       "      <td>11.496334739334172</td>\n",
       "      <td>77.09300453299109</td>\n",
       "    </tr>\n",
       "    <tr>\n",
       "      <th>3</th>\n",
       "      <td>min</td>\n",
       "      <td>19</td>\n",
       "      <td>1</td>\n",
       "      <td>18.0</td>\n",
       "      <td>62.0</td>\n",
       "      <td>97</td>\n",
       "      <td>41.6</td>\n",
       "      <td>22.0</td>\n",
       "      <td>2.0</td>\n",
       "      <td>3.2581</td>\n",
       "      <td>58</td>\n",
       "      <td>25</td>\n",
       "    </tr>\n",
       "    <tr>\n",
       "      <th>4</th>\n",
       "      <td>max</td>\n",
       "      <td>79</td>\n",
       "      <td>2</td>\n",
       "      <td>42.2</td>\n",
       "      <td>133.0</td>\n",
       "      <td>301</td>\n",
       "      <td>242.4</td>\n",
       "      <td>99.0</td>\n",
       "      <td>9.09</td>\n",
       "      <td>6.107</td>\n",
       "      <td>124</td>\n",
       "      <td>346</td>\n",
       "    </tr>\n",
       "  </tbody>\n",
       "</table>\n",
       "</div>"
      ],
      "text/plain": [
       "  summary                 age                  sex                 bmi  \\\n",
       "0   count                 442                  442                 442   \n",
       "1    mean   48.51809954751131   1.4683257918552035  26.375791855203616   \n",
       "2  stddev  13.109027822041094  0.49956117043535436   4.418121560615773   \n",
       "3     min                  19                    1                18.0   \n",
       "4     max                  79                    2                42.2   \n",
       "\n",
       "                  map                  tc                 ldl  \\\n",
       "0                 442                 442                 442   \n",
       "1   94.64701357466062  189.14027149321268  115.43914027149322   \n",
       "2  13.831283419782999   34.60805167504306  30.413080969276546   \n",
       "3                62.0                  97                41.6   \n",
       "4               133.0                 301               242.4   \n",
       "\n",
       "                  hdl                 tch                 ltg  \\\n",
       "0                 442                 442                 442   \n",
       "1   49.78846153846154   4.070248868778281   4.641410859728506   \n",
       "2  12.934202154863327  1.2904498966082776  0.5223905610694908   \n",
       "3                22.0                 2.0              3.2581   \n",
       "4                99.0                9.09               6.107   \n",
       "\n",
       "                  glu disease_progression  \n",
       "0                 442                 442  \n",
       "1   91.26018099547511  152.13348416289594  \n",
       "2  11.496334739334172   77.09300453299109  \n",
       "3                  58                  25  \n",
       "4                 124                 346  "
      ]
     },
     "execution_count": 9,
     "metadata": {},
     "output_type": "execute_result"
    }
   ],
   "source": [
    "diabetes_df.describe().toPandas()"
   ]
  },
  {
   "cell_type": "markdown",
   "metadata": {},
   "source": [
    "In our case, we know that we only have 442 observations so we can collect the data easily. However, sometimes you dataset is too big so you might want to *sample* from it.\n",
    "\n",
    "There is a method call `sample(with_replacement, fraction)` that allows you to do that. `with_replacement` indicates whether you will replace back samples that you already sampled and `fraction` indicates the fraction of rows that you will sample."
   ]
  },
  {
   "cell_type": "markdown",
   "metadata": {},
   "source": [
    "For example, a 0.1 sample will give you 10% of 442, which is approximately 44:"
   ]
  },
  {
   "cell_type": "code",
   "execution_count": 10,
   "metadata": {},
   "outputs": [
    {
     "data": {
      "text/plain": [
       "47"
      ]
     },
     "execution_count": 10,
     "metadata": {},
     "output_type": "execute_result"
    }
   ],
   "source": [
    "diabetes_df.sample(False, 0.1).count()"
   ]
  },
  {
   "cell_type": "markdown",
   "metadata": {},
   "source": [
    "Now, again, the diabetes dataset is not that big, so we can collect all of it into the driver."
   ]
  },
  {
   "cell_type": "markdown",
   "metadata": {},
   "source": [
    "Now, we can plot `bmi` vs `disease_progression`:"
   ]
  },
  {
   "cell_type": "code",
   "execution_count": 12,
   "metadata": {},
   "outputs": [
    {
     "data": {
      "image/png": "[encoded data removed]",
      "text/plain": [
       "<Figure size 432x288 with 1 Axes>"
      ]
     },
     "metadata": {
      "needs_background": "light"
     },
     "output_type": "display_data"
    }
   ],
   "source": [
    "diabetes_df.select('bmi', 'disease_progression').toPandas().plot(x='bmi', y='disease_progression', kind='scatter');"
   ]
  },
  {
   "cell_type": "markdown",
   "metadata": {},
   "source": [
    "We can also do other kinds of plots, such as histograms:"
   ]
  },
  {
   "cell_type": "code",
   "execution_count": 13,
   "metadata": {},
   "outputs": [
    {
     "data": {
      "image/png": "[encoded data removed]",
      "text/plain": [
       "<Figure size 432x288 with 1 Axes>"
      ]
     },
     "metadata": {
      "needs_background": "light"
     },
     "output_type": "display_data"
    }
   ],
   "source": [
    "diabetes_df.select('age').toPandas().plot(kind='hist');"
   ]
  },
  {
   "cell_type": "markdown",
   "metadata": {},
   "source": [
    "## Linear relationship between BMI and disease progression"
   ]
  },
  {
   "cell_type": "markdown",
   "metadata": {},
   "source": [
    "Linear regression is built on the idea that there is linear relationship between a set of explanatory variables (or independent variables) and a dependent variable (or taget variable).\n",
    "\n",
    "$$Y = f(X) = b_0 + b_1 x_1 + b_2 x_2 + \\dots + b_m x_m$$\n",
    "\n",
    "using maximum likelihood estimation we estimate such model by finding the values of \\\\(b_0, \\dots, b_m\\\\) that minimize the mean square error:\n",
    "\n",
    "$$\\hat{b} = \\arg \\min_b \\sum (Y_i - f(X_i))^2$$"
   ]
  },
  {
   "cell_type": "markdown",
   "metadata": {},
   "source": [
    "With Spark, we can find such relationship with a `LinearRegression` estimator."
   ]
  },
  {
   "cell_type": "markdown",
   "metadata": {},
   "source": [
    "First, `LinearRegression` receives as input a vector of features. The `bmi` column, however, is a scalar so we need to transform it into a vector of size one.\n",
    "\n",
    "We will do this by using an estimator that takes a set of columns and produces a single column as a vector, which combines all the input columns. This estimator is called `VectorAssembler` and it is defined inside `pyspark.ml.feature.VectorAssembler`"
   ]
  },
  {
   "cell_type": "code",
   "execution_count": 14,
   "metadata": {},
   "outputs": [
    {
     "data": {
      "text/plain": [
       "DataFrame[age: bigint, sex: bigint, bmi: double, map: double, tc: bigint, ldl: double, hdl: double, tch: double, ltg: double, glu: bigint, disease_progression: bigint]"
      ]
     },
     "execution_count": 14,
     "metadata": {},
     "output_type": "execute_result"
    }
   ],
   "source": [
    "diabetes_df"
   ]
  },
  {
   "cell_type": "code",
   "execution_count": 15,
   "metadata": {},
   "outputs": [],
   "source": [
    "va = feature.VectorAssembler(inputCols=['bmi'], outputCol='features')"
   ]
  },
  {
   "cell_type": "code",
   "execution_count": 16,
   "metadata": {},
   "outputs": [],
   "source": [
    "lr = regression.LinearRegression(featuresCol='features', labelCol='disease_progression')"
   ]
  },
  {
   "cell_type": "code",
   "execution_count": 17,
   "metadata": {},
   "outputs": [],
   "source": [
    "pipe = Pipeline(stages=[va, lr])"
   ]
  },
  {
   "cell_type": "code",
   "execution_count": 18,
   "metadata": {},
   "outputs": [],
   "source": [
    "pipe_model = pipe.fit(diabetes_df)"
   ]
  },
  {
   "cell_type": "markdown",
   "metadata": {},
   "source": [
    "# Prediction"
   ]
  },
  {
   "cell_type": "code",
   "execution_count": 19,
   "metadata": {},
   "outputs": [
    {
     "data": {
      "text/plain": [
       "DataFrame[age: bigint, sex: bigint, bmi: double, map: double, tc: bigint, ldl: double, hdl: double, tch: double, ltg: double, glu: bigint, disease_progression: bigint, features: vector, prediction: double]"
      ]
     },
     "execution_count": 19,
     "metadata": {},
     "output_type": "execute_result"
    }
   ],
   "source": [
    "pipe_model.transform(diabetes_df)"
   ]
  },
  {
   "cell_type": "code",
   "execution_count": 20,
   "metadata": {},
   "outputs": [
    {
     "name": "stdout",
     "output_type": "stream",
     "text": [
      "+---+---+----+-----+---+-----+----+---+------+---+-------------------+--------+------------------+\n",
      "|age|sex| bmi|  map| tc|  ldl| hdl|tch|   ltg|glu|disease_progression|features|        prediction|\n",
      "+---+---+----+-----+---+-----+----+---+------+---+-------------------+--------+------------------+\n",
      "| 59|  2|32.1|101.0|157| 93.2|38.0|4.0|4.8598| 87|                151|  [32.1]|210.71003806366969|\n",
      "| 48|  1|21.6| 87.0|183|103.2|70.0|3.0|3.8918| 69|                 75|  [21.6]|103.26219542761143|\n",
      "| 72|  2|30.5| 93.0|156| 93.6|41.0|4.0|4.6728| 85|                141|  [30.5]|194.33703347150845|\n",
      "| 24|  1|25.3| 84.0|198|131.4|40.0|5.0|4.8903| 89|                206|  [25.3]|141.12476854698434|\n",
      "| 50|  1|23.0|101.0|192|125.4|52.0|4.0|4.2905| 80|                135|  [23.0]| 117.5885744457525|\n",
      "+---+---+----+-----+---+-----+----+---+------+---+-------------------+--------+------------------+\n",
      "only showing top 5 rows\n",
      "\n"
     ]
    }
   ],
   "source": [
    "pipe_model.transform(diabetes_df).show(5)"
   ]
  },
  {
   "cell_type": "markdown",
   "metadata": {},
   "source": [
    "# Inference"
   ]
  },
  {
   "cell_type": "code",
   "execution_count": 22,
   "metadata": {},
   "outputs": [
    {
     "data": {
      "text/plain": [
       "[VectorAssembler_4c09a4abcc33e6559952, LinearRegression_4b1ea0c3fb37c2362319]"
      ]
     },
     "execution_count": 22,
     "metadata": {},
     "output_type": "execute_result"
    }
   ],
   "source": [
    "pipe_model.stages"
   ]
  },
  {
   "cell_type": "code",
   "execution_count": 23,
   "metadata": {},
   "outputs": [
    {
     "data": {
      "text/plain": [
       "LinearRegression_4b1ea0c3fb37c2362319"
      ]
     },
     "execution_count": 23,
     "metadata": {},
     "output_type": "execute_result"
    }
   ],
   "source": [
    "pipe_model.stages[1]"
   ]
  },
  {
   "cell_type": "code",
   "execution_count": 24,
   "metadata": {},
   "outputs": [
    {
     "data": {
      "text/plain": [
       "-117.77336656656564"
      ]
     },
     "execution_count": 24,
     "metadata": {},
     "output_type": "execute_result"
    }
   ],
   "source": [
    "pipe_model.stages[1].intercept"
   ]
  },
  {
   "cell_type": "code",
   "execution_count": 25,
   "metadata": {},
   "outputs": [
    {
     "data": {
      "text/plain": [
       "DenseVector([10.2331])"
      ]
     },
     "execution_count": 25,
     "metadata": {},
     "output_type": "execute_result"
    }
   ],
   "source": [
    "pipe_model.stages[1].coefficients"
   ]
  },
  {
   "cell_type": "code",
   "execution_count": 26,
   "metadata": {},
   "outputs": [],
   "source": [
    "pipe2_model = Pipeline(stages=[\n",
    "  feature.VectorAssembler(inputCols=['bmi', 'sex', 'age'], outputCol='features'),\n",
    "  regression.LinearRegression(featuresCol='features', labelCol='disease_progression')  \n",
    "]).fit(diabetes_df)"
   ]
  },
  {
   "cell_type": "code",
   "execution_count": 27,
   "metadata": {},
   "outputs": [],
   "source": [
    "training_df, validation_df, testing_df = diabetes_df.randomSplit([0.6, 0.3, 0.1], )"
   ]
  },
  {
   "cell_type": "code",
   "execution_count": 28,
   "metadata": {},
   "outputs": [
    {
     "data": {
      "text/plain": [
       "[270, 129, 43]"
      ]
     },
     "execution_count": 28,
     "metadata": {},
     "output_type": "execute_result"
    }
   ],
   "source": [
    "[training_df.count(), validation_df.count(), testing_df.count()]"
   ]
  },
  {
   "cell_type": "code",
   "execution_count": 29,
   "metadata": {},
   "outputs": [],
   "source": [
    "pipe1_model = Pipeline(stages=[\n",
    "  feature.VectorAssembler(inputCols=['bmi'], outputCol='features'),\n",
    "  regression.LinearRegression(featuresCol='features', labelCol='disease_progression')  \n",
    "]).fit(training_df)\n",
    "\n",
    "pipe2_model = Pipeline(stages=[\n",
    "  feature.VectorAssembler(inputCols=['bmi', 'sex', 'age'], outputCol='features'),\n",
    "  regression.LinearRegression(featuresCol='features', labelCol='disease_progression')  \n",
    "]).fit(training_df)\n"
   ]
  },
  {
   "cell_type": "code",
   "execution_count": 31,
   "metadata": {},
   "outputs": [
    {
     "data": {
      "text/plain": [
       "DataFrame[age: bigint, sex: bigint, bmi: double, map: double, tc: bigint, ldl: double, hdl: double, tch: double, ltg: double, glu: bigint, disease_progression: bigint, features: vector, prediction: double]"
      ]
     },
     "execution_count": 31,
     "metadata": {},
     "output_type": "execute_result"
    }
   ],
   "source": [
    "pipe1_model.transform(validation_df)"
   ]
  },
  {
   "cell_type": "code",
   "execution_count": 34,
   "metadata": {},
   "outputs": [],
   "source": [
    "mse = fn.mean((fn.col('disease_progression') - fn.col('prediction'))**2).alias('mse')"
   ]
  },
  {
   "cell_type": "code",
   "execution_count": 35,
   "metadata": {},
   "outputs": [
    {
     "name": "stdout",
     "output_type": "stream",
     "text": [
      "+------------------+\n",
      "|               mse|\n",
      "+------------------+\n",
      "|4029.0273788273234|\n",
      "+------------------+\n",
      "\n"
     ]
    }
   ],
   "source": [
    "pipe1_model.transform(validation_df).select(mse).show()"
   ]
  },
  {
   "cell_type": "code",
   "execution_count": 36,
   "metadata": {},
   "outputs": [
    {
     "name": "stdout",
     "output_type": "stream",
     "text": [
      "+-----------------+\n",
      "|              mse|\n",
      "+-----------------+\n",
      "|4038.428703834176|\n",
      "+-----------------+\n",
      "\n"
     ]
    }
   ],
   "source": [
    "pipe2_model.transform(validation_df).select(mse).show()"
   ]
  },
  {
   "cell_type": "code",
   "execution_count": 37,
   "metadata": {},
   "outputs": [
    {
     "name": "stdout",
     "output_type": "stream",
     "text": [
      "+-----------------+\n",
      "|              mse|\n",
      "+-----------------+\n",
      "|3625.367888574332|\n",
      "+-----------------+\n",
      "\n"
     ]
    }
   ],
   "source": [
    "pipe2_model.transform(training_df).select(mse).show()"
   ]
  },
  {
   "cell_type": "code",
   "execution_count": 44,
   "metadata": {},
   "outputs": [
    {
     "name": "stdout",
     "output_type": "stream",
     "text": [
      "+-----------------+\n",
      "|              mse|\n",
      "+-----------------+\n",
      "|4683.051206383734|\n",
      "+-----------------+\n",
      "\n"
     ]
    }
   ],
   "source": [
    "# best model is model 1\n",
    "\n",
    "pipe1_model.transform(testing_df).select(mse).show()"
   ]
  },
  {
   "cell_type": "markdown",
   "metadata": {},
   "source": [
    "There is another more sophisticated transformer that takes a *formula* equation and produces a `features` column. This *formula* equation follows the `R` format (see [PDF](http://faculty.chicagobooth.edu/richard.hahn/teaching/formulanotation.pdf)).\n",
    "\n",
    "For example, if we want to build a feature set that is the `bmi`, `age`, and the multiplication of both (interaction), then:"
   ]
  },
  {
   "cell_type": "code",
   "execution_count": 39,
   "metadata": {},
   "outputs": [],
   "source": [
    "formula = feature.RFormula(formula='disease_progression ~ bmi + age + bmi:age', labelCol='disease_progression')"
   ]
  },
  {
   "cell_type": "code",
   "execution_count": 40,
   "metadata": {},
   "outputs": [],
   "source": [
    "formula_model = formula.fit(diabetes_df)"
   ]
  },
  {
   "cell_type": "markdown",
   "metadata": {},
   "source": [
    "Since the transformation that can go inside formulas are more complex, then we need to fit the estimator first, and capture the returning object."
   ]
  },
  {
   "cell_type": "code",
   "execution_count": 41,
   "metadata": {},
   "outputs": [
    {
     "name": "stdout",
     "output_type": "stream",
     "text": [
      "+----+---+--------------------+-------------------+\n",
      "| bmi|age|            features|disease_progression|\n",
      "+----+---+--------------------+-------------------+\n",
      "|32.1| 59|  [32.1,59.0,1893.9]|                151|\n",
      "|21.6| 48|[21.6,48.0,1036.8...|                 75|\n",
      "|30.5| 72|  [30.5,72.0,2196.0]|                141|\n",
      "|25.3| 24|   [25.3,24.0,607.2]|                206|\n",
      "|23.0| 50|  [23.0,50.0,1150.0]|                135|\n",
      "+----+---+--------------------+-------------------+\n",
      "only showing top 5 rows\n",
      "\n"
     ]
    }
   ],
   "source": [
    "formula_model.transform(diabetes_df).select('bmi', 'age', 'features', 'disease_progression').show(5)"
   ]
  }
 ],
 "metadata": {
  "anaconda-cloud": {},
  "kernelspec": {
   "display_name": "Python 3",
   "language": "python",
   "name": "python3"
  },
  "language_info": {
   "codemirror_mode": {
    "name": "ipython",
    "version": 3
   },
   "file_extension": ".py",
   "mimetype": "text/x-python",
   "name": "python",
   "nbconvert_exporter": "python",
   "pygments_lexer": "ipython3",
   "version": "3.7.6"
  },
  "name": "Introduction to Spark and DataFrames",
  "notebookId": 3787151238717346
 },
 "nbformat": 4,
 "nbformat_minor": 1
}
